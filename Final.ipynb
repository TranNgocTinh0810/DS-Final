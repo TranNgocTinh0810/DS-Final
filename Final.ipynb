{
 "cells": [
  {
   "cell_type": "markdown",
   "metadata": {
    "toc": true
   },
   "source": [
    "<h1>Mục lục <span class=\"tocSkip\"></span></h1>\n",
    "<div class=\"toc\"><ul class=\"toc-item\"><li><span><a href=\"#Import\" data-toc-modified-id=\"Import-1\"><span class=\"toc-item-num\">1&nbsp;&nbsp;</span>Import</a></span></li><li><span><a href=\"#Đọc-dữ-liệu-từ-file-csv\" data-toc-modified-id=\"Đọc-dữ-liệu-từ-file-csv-2\"><span class=\"toc-item-num\">2&nbsp;&nbsp;</span>Đọc dữ liệu từ file csv</a></span></li><li><span><a href=\"#Đưa-ra-câu-hỏi-cho-dữ-liệu\" data-toc-modified-id=\"Đưa-ra-câu-hỏi-cho-dữ-liệu-3\"><span class=\"toc-item-num\">3&nbsp;&nbsp;</span>Đưa ra câu hỏi cho dữ liệu</a></span></li><li><span><a href=\"#Khám-phá-dữ-liệu\" data-toc-modified-id=\"Khám-phá-dữ-liệu-4\"><span class=\"toc-item-num\">4&nbsp;&nbsp;</span>Khám phá dữ liệu</a></span><ul class=\"toc-item\"><li><span><a href=\"#Thống-kê-dòng,cột..\" data-toc-modified-id=\"Thống-kê-dòng,cột..-4.1\"><span class=\"toc-item-num\">4.1&nbsp;&nbsp;</span>Thống kê dòng,cột..</a></span><ul class=\"toc-item\"><li><span><a href=\"#Dữ-liệu-có-bao-nhiêu-dòng-và-bao-nhiêu-cột?\" data-toc-modified-id=\"Dữ-liệu-có-bao-nhiêu-dòng-và-bao-nhiêu-cột?-4.1.1\"><span class=\"toc-item-num\">4.1.1&nbsp;&nbsp;</span>Dữ liệu có bao nhiêu dòng và bao nhiêu cột?</a></span></li><li><span><a href=\"#Dữ-liệu-có-các-dòng-bị-lặp-không?\" data-toc-modified-id=\"Dữ-liệu-có-các-dòng-bị-lặp-không?-4.1.2\"><span class=\"toc-item-num\">4.1.2&nbsp;&nbsp;</span>Dữ liệu có các dòng bị lặp không?</a></span></li><li><span><a href=\"#Kiểu-dữ-liệu-của-các-cột\" data-toc-modified-id=\"Kiểu-dữ-liệu-của-các-cột-4.1.3\"><span class=\"toc-item-num\">4.1.3&nbsp;&nbsp;</span>Kiểu dữ liệu của các cột</a></span></li><li><span><a href=\"#Ý-nghĩa-của-các-cột\" data-toc-modified-id=\"Ý-nghĩa-của-các-cột-4.1.4\"><span class=\"toc-item-num\">4.1.4&nbsp;&nbsp;</span>Ý nghĩa của các cột</a></span></li></ul></li><li><span><a href=\"#Visualize-các-cột-quan-trọng\" data-toc-modified-id=\"Visualize-các-cột-quan-trọng-4.2\"><span class=\"toc-item-num\">4.2&nbsp;&nbsp;</span>Visualize các cột quan trọng</a></span><ul class=\"toc-item\"><li><span><a href=\"#Visualize-cột-population\" data-toc-modified-id=\"Visualize-cột-population-4.2.1\"><span class=\"toc-item-num\">4.2.1&nbsp;&nbsp;</span>Visualize cột population</a></span></li><li><span><a href=\"#Visualize-cột-confirmed\" data-toc-modified-id=\"Visualize-cột-confirmed-4.2.2\"><span class=\"toc-item-num\">4.2.2&nbsp;&nbsp;</span>Visualize cột confirmed</a></span></li><li><span><a href=\"#Visualize-cột-recovered\" data-toc-modified-id=\"Visualize-cột-recovered-4.2.3\"><span class=\"toc-item-num\">4.2.3&nbsp;&nbsp;</span>Visualize cột recovered</a></span></li><li><span><a href=\"#Visualize-cột-deaths\" data-toc-modified-id=\"Visualize-cột-deaths-4.2.4\"><span class=\"toc-item-num\">4.2.4&nbsp;&nbsp;</span>Visualize cột deaths</a></span></li></ul></li></ul></li><li><span><a href=\"#Tách-các-tập\" data-toc-modified-id=\"Tách-các-tập-5\"><span class=\"toc-item-num\">5&nbsp;&nbsp;</span>Tách các tập</a></span><ul class=\"toc-item\"><li><span><a href=\"#Kích-thước-dữ-liệu-sau-khi-tách\" data-toc-modified-id=\"Kích-thước-dữ-liệu-sau-khi-tách-5.1\"><span class=\"toc-item-num\">5.1&nbsp;&nbsp;</span>Kích thước dữ liệu sau khi tách</a></span><ul class=\"toc-item\"><li><span><a href=\"#Tập-X-huấn-luyện\" data-toc-modified-id=\"Tập-X-huấn-luyện-5.1.1\"><span class=\"toc-item-num\">5.1.1&nbsp;&nbsp;</span>Tập X huấn luyện</a></span></li></ul></li></ul></li><li><span><a href=\"#Phương-pháp-đánh-giá-1\" data-toc-modified-id=\"Phương-pháp-đánh-giá-1-6\"><span class=\"toc-item-num\">6&nbsp;&nbsp;</span>Phương pháp đánh giá 1</a></span><ul class=\"toc-item\"><li><span><a href=\"#Tách-tập-validation-từ-tập-train\" data-toc-modified-id=\"Tách-tập-validation-từ-tập-train-6.1\"><span class=\"toc-item-num\">6.1&nbsp;&nbsp;</span>Tách tập validation từ tập train</a></span><ul class=\"toc-item\"><li><span><a href=\"#Kích-thước-các-tập-sau-khi-chia\" data-toc-modified-id=\"Kích-thước-các-tập-sau-khi-chia-6.1.1\"><span class=\"toc-item-num\">6.1.1&nbsp;&nbsp;</span>Kích thước các tập sau khi chia</a></span></li><li><span><a href=\"#Kiểm-tập-train_X-dùng-chung-cho-các-mô-hình-và-tập-test-không-bị-thay-đổi\" data-toc-modified-id=\"Kiểm-tập-train_X-dùng-chung-cho-các-mô-hình-và-tập-test-không-bị-thay-đổi-6.1.2\"><span class=\"toc-item-num\">6.1.2&nbsp;&nbsp;</span>Kiểm tập train_X dùng chung cho các mô hình và tập test không bị thay đổi</a></span></li></ul></li><li><span><a href=\"#Tiền-xử-lí-(-tập-huấn-luyện-)\" data-toc-modified-id=\"Tiền-xử-lí-(-tập-huấn-luyện-)-6.2\"><span class=\"toc-item-num\">6.2&nbsp;&nbsp;</span>Tiền xử lí ( tập huấn luyện )</a></span><ul class=\"toc-item\"><li><span><a href=\"#Class-Tiền-xử-lí\" data-toc-modified-id=\"Class-Tiền-xử-lí-6.2.1\"><span class=\"toc-item-num\">6.2.1&nbsp;&nbsp;</span>Class Tiền xử lí</a></span></li></ul></li><li><span><a href=\"#Fit-&amp;-Transform\" data-toc-modified-id=\"Fit-&amp;-Transform-6.3\"><span class=\"toc-item-num\">6.3&nbsp;&nbsp;</span>Fit &amp; Transform</a></span></li><li><span><a href=\"#Kiểu-dữ-liệu-của-các-cột-sau-xử-lí\" data-toc-modified-id=\"Kiểu-dữ-liệu-của-các-cột-sau-xử-lí-6.4\"><span class=\"toc-item-num\">6.4&nbsp;&nbsp;</span>Kiểu dữ liệu của các cột sau xử lí</a></span></li><li><span><a href=\"#Thống-kê-các-giá-trị-NA-của-từng-cột\" data-toc-modified-id=\"Thống-kê-các-giá-trị-NA-của-từng-cột-6.5\"><span class=\"toc-item-num\">6.5&nbsp;&nbsp;</span>Thống kê các giá trị NA của từng cột</a></span></li><li><span><a href=\"#Kiểm-tra-sau-khi-fit&amp;transform-tập-train_X-không-bị-thay-đổi\" data-toc-modified-id=\"Kiểm-tra-sau-khi-fit&amp;transform-tập-train_X-không-bị-thay-đổi-6.6\"><span class=\"toc-item-num\">6.6&nbsp;&nbsp;</span>Kiểm tra sau khi fit&amp;transform tập train_X không bị thay đổi</a></span></li><li><span><a href=\"#Điền-giá-trị-thiếu\" data-toc-modified-id=\"Điền-giá-trị-thiếu-6.7\"><span class=\"toc-item-num\">6.7&nbsp;&nbsp;</span>Điền giá trị thiếu</a></span></li><li><span><a href=\"#Tìm-mô-hình-tốt-nhất\" data-toc-modified-id=\"Tìm-mô-hình-tốt-nhất-6.8\"><span class=\"toc-item-num\">6.8&nbsp;&nbsp;</span>Tìm mô hình tốt nhất</a></span><ul class=\"toc-item\"><li><span><a href=\"#Giá-trị-alpha-&amp;-độ-lỗi-tốt-nhất\" data-toc-modified-id=\"Giá-trị-alpha-&amp;-độ-lỗi-tốt-nhất-6.8.1\"><span class=\"toc-item-num\">6.8.1&nbsp;&nbsp;</span>Giá trị alpha &amp; độ lỗi tốt nhất</a></span></li><li><span><a href=\"#Fit-mô-hình-với-alpha-và-iter-tốt-nhất\" data-toc-modified-id=\"Fit-mô-hình-với-alpha-và-iter-tốt-nhất-6.8.2\"><span class=\"toc-item-num\">6.8.2&nbsp;&nbsp;</span>Fit mô hình với alpha và iter tốt nhất</a></span></li><li><span><a href=\"#Kiểm-tra-cuối-cùng-của-mô-hình-với-tập-test\" data-toc-modified-id=\"Kiểm-tra-cuối-cùng-của-mô-hình-với-tập-test-6.8.3\"><span class=\"toc-item-num\">6.8.3&nbsp;&nbsp;</span>Kiểm tra cuối cùng của mô hình với tập test</a></span></li></ul></li></ul></li></ul></div>"
   ]
  },
  {
   "cell_type": "markdown",
   "metadata": {},
   "source": [
    "# Đồ Án Cuối Kì Môn Khoa Học Dữ Liệu\n",
    "\n",
    "\n",
    "**Giới thiệu thành viên**\n",
    "\n",
    "- *Họ tên:* **Trần Ngọc Tịnh**       \n",
    "  *MSSV:* **18120597**\n",
    "  \n",
    "  \n",
    "  \n",
    "  \n",
    "- *Họ tên:* **Nguyễn Ngọc Năng Toàn**       \n",
    "  *MSSV:* **18120600**\n",
    "  \n",
    "  "
   ]
  },
  {
   "cell_type": "markdown",
   "metadata": {},
   "source": [
    "--- --- "
   ]
  },
  {
   "cell_type": "markdown",
   "metadata": {},
   "source": [
    "## Import "
   ]
  },
  {
   "cell_type": "code",
   "execution_count": 1,
   "metadata": {},
   "outputs": [],
   "source": [
    "%matplotlib inline\n",
    "import matplotlib.pyplot as plt\n",
    "import seaborn as sns # seaborn là thư viện được xây trên matplotlib, giúp việc visualization đỡ khổ hơn\n",
    "import pandas as pd\n",
    "import numpy as np\n",
    "\n",
    "from sklearn.model_selection import train_test_split\n",
    "from sklearn.model_selection import GridSearchCV\n",
    "from sklearn.preprocessing import OneHotEncoder, StandardScaler\n",
    "from sklearn.impute import SimpleImputer\n",
    "from sklearn.base import BaseEstimator, TransformerMixin\n",
    "from sklearn.pipeline import Pipeline, make_pipeline\n",
    "from sklearn.compose import ColumnTransformer, make_column_transformer\n",
    "from sklearn.neural_network import MLPClassifier\n",
    "from sklearn import set_config\n",
    "from mpl_toolkits.mplot3d import Axes3D\n",
    "\n",
    "set_config(display='diagram') # Để trực quan hóa pipeline\n"
   ]
  },
  {
   "cell_type": "markdown",
   "metadata": {},
   "source": [
    "## Đọc dữ liệu từ file csv"
   ]
  },
  {
   "cell_type": "code",
   "execution_count": 2,
   "metadata": {
    "scrolled": true
   },
   "outputs": [
    {
     "data": {
      "text/html": [
       "<div>\n",
       "<style scoped>\n",
       "    .dataframe tbody tr th:only-of-type {\n",
       "        vertical-align: middle;\n",
       "    }\n",
       "\n",
       "    .dataframe tbody tr th {\n",
       "        vertical-align: top;\n",
       "    }\n",
       "\n",
       "    .dataframe thead th {\n",
       "        text-align: right;\n",
       "    }\n",
       "</style>\n",
       "<table border=\"1\" class=\"dataframe\">\n",
       "  <thead>\n",
       "    <tr style=\"text-align: right;\">\n",
       "      <th></th>\n",
       "      <th>confirmed</th>\n",
       "      <th>recovered</th>\n",
       "      <th>deaths</th>\n",
       "      <th>population</th>\n",
       "      <th>sq_km_area</th>\n",
       "      <th>life_expectancy</th>\n",
       "      <th>elevation_in_meters</th>\n",
       "      <th>continent</th>\n",
       "      <th>abbreviation</th>\n",
       "      <th>location</th>\n",
       "      <th>iso</th>\n",
       "      <th>capital_city</th>\n",
       "      <th>lat</th>\n",
       "      <th>long</th>\n",
       "      <th>updated</th>\n",
       "    </tr>\n",
       "    <tr>\n",
       "      <th>Country</th>\n",
       "      <th></th>\n",
       "      <th></th>\n",
       "      <th></th>\n",
       "      <th></th>\n",
       "      <th></th>\n",
       "      <th></th>\n",
       "      <th></th>\n",
       "      <th></th>\n",
       "      <th></th>\n",
       "      <th></th>\n",
       "      <th></th>\n",
       "      <th></th>\n",
       "      <th></th>\n",
       "      <th></th>\n",
       "      <th></th>\n",
       "    </tr>\n",
       "  </thead>\n",
       "  <tbody>\n",
       "    <tr>\n",
       "      <th>Afghanistan</th>\n",
       "      <td>51526</td>\n",
       "      <td>41727</td>\n",
       "      <td>2191</td>\n",
       "      <td>35530081.0</td>\n",
       "      <td>652090.0</td>\n",
       "      <td>45.9</td>\n",
       "      <td>NaN</td>\n",
       "      <td>Asia</td>\n",
       "      <td>AF</td>\n",
       "      <td>Southern and Central Asia</td>\n",
       "      <td>4.0</td>\n",
       "      <td>Kabul</td>\n",
       "      <td>33.93911</td>\n",
       "      <td>67.709953</td>\n",
       "      <td>2021/01/01 14:22:58+00</td>\n",
       "    </tr>\n",
       "    <tr>\n",
       "      <th>Albania</th>\n",
       "      <td>58316</td>\n",
       "      <td>33634</td>\n",
       "      <td>1181</td>\n",
       "      <td>2930187.0</td>\n",
       "      <td>28748.0</td>\n",
       "      <td>71.6</td>\n",
       "      <td>NaN</td>\n",
       "      <td>Europe</td>\n",
       "      <td>AL</td>\n",
       "      <td>Southern Europe</td>\n",
       "      <td>8.0</td>\n",
       "      <td>Tirana</td>\n",
       "      <td>41.15330</td>\n",
       "      <td>20.168300</td>\n",
       "      <td>2021/01/01 14:22:58+00</td>\n",
       "    </tr>\n",
       "    <tr>\n",
       "      <th>Algeria</th>\n",
       "      <td>99610</td>\n",
       "      <td>67127</td>\n",
       "      <td>2756</td>\n",
       "      <td>41318142.0</td>\n",
       "      <td>2381741.0</td>\n",
       "      <td>69.7</td>\n",
       "      <td>800</td>\n",
       "      <td>Africa</td>\n",
       "      <td>DZ</td>\n",
       "      <td>Northern Africa</td>\n",
       "      <td>12.0</td>\n",
       "      <td>Alger</td>\n",
       "      <td>28.03390</td>\n",
       "      <td>1.659600</td>\n",
       "      <td>2021/01/01 14:22:58+00</td>\n",
       "    </tr>\n",
       "    <tr>\n",
       "      <th>Andorra</th>\n",
       "      <td>8049</td>\n",
       "      <td>7432</td>\n",
       "      <td>84</td>\n",
       "      <td>76965.0</td>\n",
       "      <td>468.0</td>\n",
       "      <td>83.5</td>\n",
       "      <td>1,996</td>\n",
       "      <td>Europe</td>\n",
       "      <td>AD</td>\n",
       "      <td>Southern Europe</td>\n",
       "      <td>20.0</td>\n",
       "      <td>Andorra la Vella</td>\n",
       "      <td>42.50630</td>\n",
       "      <td>1.521800</td>\n",
       "      <td>2021/01/01 14:22:58+00</td>\n",
       "    </tr>\n",
       "    <tr>\n",
       "      <th>Angola</th>\n",
       "      <td>17553</td>\n",
       "      <td>11044</td>\n",
       "      <td>405</td>\n",
       "      <td>29784193.0</td>\n",
       "      <td>1246700.0</td>\n",
       "      <td>38.3</td>\n",
       "      <td>1,112</td>\n",
       "      <td>Africa</td>\n",
       "      <td>AO</td>\n",
       "      <td>Central Africa</td>\n",
       "      <td>24.0</td>\n",
       "      <td>Luanda</td>\n",
       "      <td>-11.20270</td>\n",
       "      <td>17.873900</td>\n",
       "      <td>2021/01/01 14:22:58+00</td>\n",
       "    </tr>\n",
       "  </tbody>\n",
       "</table>\n",
       "</div>"
      ],
      "text/plain": [
       "             confirmed  recovered  deaths  population  sq_km_area  \\\n",
       "Country                                                             \n",
       "Afghanistan      51526      41727    2191  35530081.0    652090.0   \n",
       "Albania          58316      33634    1181   2930187.0     28748.0   \n",
       "Algeria          99610      67127    2756  41318142.0   2381741.0   \n",
       "Andorra           8049       7432      84     76965.0       468.0   \n",
       "Angola           17553      11044     405  29784193.0   1246700.0   \n",
       "\n",
       "            life_expectancy elevation_in_meters continent abbreviation  \\\n",
       "Country                                                                  \n",
       "Afghanistan            45.9                 NaN      Asia           AF   \n",
       "Albania                71.6                 NaN    Europe           AL   \n",
       "Algeria                69.7                 800    Africa           DZ   \n",
       "Andorra                83.5               1,996    Europe           AD   \n",
       "Angola                 38.3               1,112    Africa           AO   \n",
       "\n",
       "                              location   iso      capital_city       lat  \\\n",
       "Country                                                                    \n",
       "Afghanistan  Southern and Central Asia   4.0             Kabul  33.93911   \n",
       "Albania                Southern Europe   8.0            Tirana  41.15330   \n",
       "Algeria                Northern Africa  12.0             Alger  28.03390   \n",
       "Andorra                Southern Europe  20.0  Andorra la Vella  42.50630   \n",
       "Angola                  Central Africa  24.0            Luanda -11.20270   \n",
       "\n",
       "                  long                 updated  \n",
       "Country                                         \n",
       "Afghanistan  67.709953  2021/01/01 14:22:58+00  \n",
       "Albania      20.168300  2021/01/01 14:22:58+00  \n",
       "Algeria       1.659600  2021/01/01 14:22:58+00  \n",
       "Andorra       1.521800  2021/01/01 14:22:58+00  \n",
       "Angola       17.873900  2021/01/01 14:22:58+00  "
      ]
     },
     "execution_count": 2,
     "metadata": {},
     "output_type": "execute_result"
    }
   ],
   "source": [
    "data_df = pd.read_csv('data\\data.csv', \n",
    "                      index_col=0) # Cho cột index là cột 0 (PassengerId)\n",
    "data_df.head()"
   ]
  },
  {
   "cell_type": "markdown",
   "metadata": {},
   "source": [
    "## Đưa ra câu hỏi cho dữ liệu\n",
    "\n",
    "\n",
    "Câu hỏi nhóm em đặt ra là dự đoán số lượng người chết của mỗi quốc gia,cột **output** là `deaths`. Nhưng vấn đề nhóm gặp phải đó là dữ liệu này quá ít. Chỉ có 147 quốc gia, bên cạnh đó dữ liệu này còn rời rạc. Dẫn đến việc dự đoán một con số chính xác có kết quả là khá tệ, nếu như không muốn nói là kết quả không đúng kết quả nào trong bộ test. \n",
    "\n",
    "Nhóm đã quyết định thay vì dự đoán một con số chính xác thì sẽ dự đoán một khoảng, các khoảng thì sẽ được trình bày ở phần phân tích dữ liệu phía dưới."
   ]
  },
  {
   "cell_type": "markdown",
   "metadata": {},
   "source": [
    "## Khám phá dữ liệu "
   ]
  },
  {
   "cell_type": "markdown",
   "metadata": {},
   "source": [
    "### Thống kê dòng,cột.."
   ]
  },
  {
   "cell_type": "markdown",
   "metadata": {},
   "source": [
    "#### Dữ liệu có bao nhiêu dòng và bao nhiêu cột?"
   ]
  },
  {
   "cell_type": "code",
   "execution_count": 3,
   "metadata": {},
   "outputs": [
    {
     "data": {
      "text/plain": [
       "(173, 15)"
      ]
     },
     "execution_count": 3,
     "metadata": {},
     "output_type": "execute_result"
    }
   ],
   "source": [
    "data_df.shape"
   ]
  },
  {
   "cell_type": "markdown",
   "metadata": {},
   "source": [
    "#### Dữ liệu có các dòng bị lặp không?"
   ]
  },
  {
   "cell_type": "code",
   "execution_count": 4,
   "metadata": {},
   "outputs": [
    {
     "data": {
      "text/plain": [
       "0"
      ]
     },
     "execution_count": 4,
     "metadata": {},
     "output_type": "execute_result"
    }
   ],
   "source": [
    "data_df.index.duplicated().sum()"
   ]
  },
  {
   "cell_type": "markdown",
   "metadata": {},
   "source": [
    "#### Kiểu dữ liệu của các cột"
   ]
  },
  {
   "cell_type": "code",
   "execution_count": 5,
   "metadata": {},
   "outputs": [
    {
     "data": {
      "text/plain": [
       "confirmed                int64\n",
       "recovered                int64\n",
       "deaths                   int64\n",
       "population             float64\n",
       "sq_km_area             float64\n",
       "life_expectancy         object\n",
       "elevation_in_meters     object\n",
       "continent               object\n",
       "abbreviation            object\n",
       "location                object\n",
       "iso                    float64\n",
       "capital_city            object\n",
       "lat                    float64\n",
       "long                   float64\n",
       "updated                 object\n",
       "dtype: object"
      ]
     },
     "execution_count": 5,
     "metadata": {},
     "output_type": "execute_result"
    }
   ],
   "source": [
    "data_df.dtypes"
   ]
  },
  {
   "cell_type": "markdown",
   "metadata": {},
   "source": [
    "#### Ý nghĩa của các cột"
   ]
  },
  {
   "cell_type": "code",
   "execution_count": 6,
   "metadata": {},
   "outputs": [
    {
     "name": "stdout",
     "output_type": "stream",
     "text": [
      "Country: Tên quốc gia.\n",
      "confirmed: Số ca mắc Covid-19 đã xác nhận (int).\n",
      "recovered: Số ca hồi phục (int).\n",
      "deaths: Số ca tử vong (int).\n",
      "population: Dân số của quốc gia (float).\n",
      "sq_km_area: Diện tích của quốc gia (float).\n",
      "life_expectancy: Tuổi thọ trung bình của quốc gia.\n",
      "elevation_in_meters: Độ cao tính bằng mét so với mật nước biển.\n",
      "continent: Quốc gia thuộc lục địa nào.\n",
      "abbreviation : Tên viết tắt của quốc gia.\n",
      "location: Khu vực của quốc gia.\n",
      "iso: Mã Code của quốc gia.\n",
      "capital_city: Tên thủ đô của quốc gia.\n",
      "lat: Vĩ độ của quốc gia.\n",
      "long: Kinh độ của quốc gia.\n",
      "updated: Ngày,tháng,năm cập nhật.\n",
      "\n",
      "\n"
     ]
    }
   ],
   "source": [
    "with open('description.txt', 'r',encoding=\"utf8\") as f:\n",
    "    print(f.read())"
   ]
  },
  {
   "cell_type": "markdown",
   "metadata": {},
   "source": [
    "### Visualize các cột quan trọng"
   ]
  },
  {
   "cell_type": "markdown",
   "metadata": {},
   "source": [
    "#### Visualize cột population\n",
    "\n",
    "\n",
    "\n",
    "\n",
    "Ở cột dân số, ta có thể thấy top 2 dân số có số dân vượt trội là **Trung Quốc**, **Ấn Độ**"
   ]
  },
  {
   "cell_type": "code",
   "execution_count": 7,
   "metadata": {
    "scrolled": true
   },
   "outputs": [
    {
     "data": {
      "image/png": "[encoded data removed]",
      "text/plain": [
       "<Figure size 432x288 with 1 Axes>"
      ]
     },
     "metadata": {
      "needs_background": "light"
     },
     "output_type": "display_data"
    }
   ],
   "source": [
    "data_df['population'].nlargest(n=20).plot(kind='barh')\n",
    "plt.show()"
   ]
  },
  {
   "cell_type": "markdown",
   "metadata": {},
   "source": [
    "#### Visualize cột confirmed\t\n",
    "\n",
    "\n",
    "Sau khi sử dụng đồ thị thì ta có thể thấy nước **Mỹ** có nhiều case *Covid* nhất tiếp theo là **Ấn Độ** và **Brazil**. Mặc dù là nước nảy sinh đầu tiên ra Covid-19 và có dân số đông nhất thế giới nhưng trong top 20 chúng ta không hề thấy **Trung Quốc**."
   ]
  },
  {
   "cell_type": "code",
   "execution_count": 8,
   "metadata": {},
   "outputs": [
    {
     "data": {
      "image/png": "[encoded data removed]",
      "text/plain": [
       "<Figure size 432x288 with 1 Axes>"
      ]
     },
     "metadata": {
      "needs_background": "light"
     },
     "output_type": "display_data"
    }
   ],
   "source": [
    "data_df['confirmed'].nlargest(n=20).plot(kind='barh')\n",
    "plt.show()"
   ]
  },
  {
   "cell_type": "markdown",
   "metadata": {},
   "source": [
    "#### Visualize cột recovered\n",
    "\n",
    "Hiển thị 20 nước có số ca hồi phục nhiều nhất trong dữ liệu"
   ]
  },
  {
   "cell_type": "code",
   "execution_count": 9,
   "metadata": {
    "scrolled": false
   },
   "outputs": [
    {
     "data": {
      "image/png": "[encoded data removed]",
      "text/plain": [
       "<Figure size 432x288 with 1 Axes>"
      ]
     },
     "metadata": {
      "needs_background": "light"
     },
     "output_type": "display_data"
    }
   ],
   "source": [
    "data_df['recovered'].nlargest(n=20).plot(kind='barh')\n",
    "plt.show()"
   ]
  },
  {
   "cell_type": "markdown",
   "metadata": {},
   "source": [
    "#### Visualize cột deaths\n",
    "\n",
    "Hiển thị số ca tử vong của các nước.Đây là cột của câu hỏi chúng ta cần tìm.\n",
    "\n",
    "Dựa vào biểu đồ,chúng ta có thể thấy số lượng tử vong của các quốc gia đa phần nằm dưới **5000**. Nên em sẽ chuyển dữ liệu cột `deaths` thành **5** khoảng như sau:\n",
    "\n",
    "- 0 -> 100: Lưu vào **0**\n",
    "- 100 -> 500: Lưu vào **1**\n",
    "- 500 -> 1500: Lưu vào **2**\n",
    "- 1500 -> 5000: Lưu vào **3**\n",
    "- 5000 -> Max:  Lưu vào **4**"
   ]
  },
  {
   "cell_type": "code",
   "execution_count": 10,
   "metadata": {
    "scrolled": true
   },
   "outputs": [
    {
     "data": {
      "image/png": "[encoded data removed]",
      "text/plain": [
       "<Figure size 2160x720 with 1 Axes>"
      ]
     },
     "metadata": {
      "needs_background": "light"
     },
     "output_type": "display_data"
    }
   ],
   "source": [
    "data_df['deaths'].plot(use_index=False,kind='line',figsize=(30,10))\n",
    "plt.show()"
   ]
  },
  {
   "cell_type": "markdown",
   "metadata": {},
   "source": [
    "Chuyển đổi dữ liệu cột `output` về các nhóm."
   ]
  },
  {
   "cell_type": "code",
   "execution_count": 11,
   "metadata": {},
   "outputs": [],
   "source": [
    "data_df.loc[(data_df['deaths']>=0)&(data_df['deaths']<100),'deaths'] = 0\n",
    "data_df.loc[(data_df['deaths']>=100)&(data_df['deaths']<500),'deaths'] = 1\n",
    "data_df.loc[(data_df['deaths']>=500)&(data_df['deaths']<1500),'deaths'] = 2\n",
    "data_df.loc[(data_df['deaths']>=1500)&(data_df['deaths']<5000),'deaths'] = 3  \n",
    "data_df.loc[(data_df['deaths']>=5000,'deaths')] =4"
   ]
  },
  {
   "cell_type": "markdown",
   "metadata": {},
   "source": [
    "Kết quả sau khi chuyển đổi."
   ]
  },
  {
   "cell_type": "code",
   "execution_count": 12,
   "metadata": {},
   "outputs": [
    {
     "data": {
      "text/plain": [
       "array([3, 2, 0, 1, 4], dtype=int64)"
      ]
     },
     "execution_count": 12,
     "metadata": {},
     "output_type": "execute_result"
    }
   ],
   "source": [
    "data_df['deaths'].unique()"
   ]
  },
  {
   "cell_type": "markdown",
   "metadata": {},
   "source": [
    "## Tách các tập\n",
    "\n"
   ]
  },
  {
   "cell_type": "markdown",
   "metadata": {},
   "source": [
    "- Tách thành 2 phần **X** và **y**. Với X là `input`, y là `output`."
   ]
  },
  {
   "cell_type": "code",
   "execution_count": 13,
   "metadata": {},
   "outputs": [],
   "source": [
    "y_sr = data_df[\"deaths\"] # sr là viết tắt của series\n",
    "X_df = data_df.drop(\"deaths\", axis=1)"
   ]
  },
  {
   "cell_type": "markdown",
   "metadata": {},
   "source": [
    "- Ban đầu em sẽ chi tập `test` bằng **20%** và tập `train` là **80%**.Từ tập train này em sẽ chia thành các phần khác nhau tùy thuộc vào mỗi phương pháp đánh giá."
   ]
  },
  {
   "cell_type": "code",
   "execution_count": 14,
   "metadata": {},
   "outputs": [],
   "source": [
    "\n",
    "train_X, test_X, train_y, test_y = train_test_split(X_df,y_sr,test_size=0.2, random_state=0)\n"
   ]
  },
  {
   "cell_type": "markdown",
   "metadata": {},
   "source": [
    "### Kích thước dữ liệu sau khi tách"
   ]
  },
  {
   "cell_type": "markdown",
   "metadata": {},
   "source": [
    "#### Tập X huấn luyện"
   ]
  },
  {
   "cell_type": "code",
   "execution_count": 15,
   "metadata": {},
   "outputs": [
    {
     "name": "stdout",
     "output_type": "stream",
     "text": [
      "shape train_X : (138, 14)\n",
      "shape train_y : (138,)\n",
      "shape val_X : (35, 14)\n",
      "shape val_y : (35,)\n"
     ]
    }
   ],
   "source": [
    "print(\"shape train_X :\", train_X.shape)\n",
    "print(\"shape train_y :\", train_y.shape)\n",
    "print(\"shape val_X :\", test_X.shape)\n",
    "print(\"shape val_y :\", test_y.shape)"
   ]
  },
  {
   "cell_type": "markdown",
   "metadata": {},
   "source": [
    "## Phương pháp đánh giá 1\n",
    "\n",
    "Trong phương pháp này nhóm sẽ xóa các cột mà nhóm nghĩ sẽ không ảnh hưởng đến `output`.\n",
    "\n",
    "- `abbreviation`: cột này có ý nghĩa là tên viết tắt của quốc gia.\n",
    "- `capital_city`: Giá trị tên thủ đô của quốc gia.\n",
    "- `updated`: Thời gian cập nhật của dữ liệu, theo mình quan sát thì dữ liệu của các quốc gia hầu như đều được cập nhật có thời gian khá tương tự nhau.\n",
    "\n",
    "\n",
    "Tiếp theo là 2 giá trị hiển thị vị trí của quốc gia. Theo mình nghĩ 2 giá trị này chỉ là hiển thị vị trí kinh độ,vĩ độ không ảnh hưởng đến số lượng người chết,mỗi quốc gia sẽ có 1 giá trị khác nhau.\n",
    "- `lat`: Giá trị vĩ độ của quốc gia.\n",
    "- `long`: Giá trị kinh độ của quốc gia\n",
    "\n",
    "Mô hình nhóm chọn là **`MLPRegressor`**\n",
    "\n",
    "Phương pháp đánh giá nhóm chọn là: **`mean_absolute_error`**"
   ]
  },
  {
   "cell_type": "markdown",
   "metadata": {},
   "source": [
    "### Tách tập validation từ tập train"
   ]
  },
  {
   "cell_type": "markdown",
   "metadata": {},
   "source": [
    "- Em sẽ chia tập `validation` bằng **20%** và tập `train` **còn lại** là **80%** "
   ]
  },
  {
   "cell_type": "code",
   "execution_count": 16,
   "metadata": {},
   "outputs": [],
   "source": [
    "train_1_X, val_1_X, train_1_y, val_1_y = train_test_split(train_X,train_y,test_size=0.2, random_state=0)"
   ]
  },
  {
   "cell_type": "markdown",
   "metadata": {},
   "source": [
    "#### Kích thước các tập sau khi chia"
   ]
  },
  {
   "cell_type": "code",
   "execution_count": 17,
   "metadata": {},
   "outputs": [
    {
     "name": "stdout",
     "output_type": "stream",
     "text": [
      "shape train_X : (110, 14)\n",
      "shape train_y : (110,)\n",
      "shape val_X : (28, 14)\n",
      "shape val_y : (28,)\n"
     ]
    }
   ],
   "source": [
    "print(\"shape train_X :\", train_1_X.shape)\n",
    "print(\"shape train_y :\", train_1_y.shape)\n",
    "print(\"shape val_X :\", val_1_X.shape)\n",
    "print(\"shape val_y :\", val_1_y.shape)\n"
   ]
  },
  {
   "cell_type": "markdown",
   "metadata": {},
   "source": [
    "#### Kiểm tập train_X dùng chung cho các mô hình và tập test không bị thay đổi "
   ]
  },
  {
   "cell_type": "code",
   "execution_count": 18,
   "metadata": {},
   "outputs": [
    {
     "name": "stdout",
     "output_type": "stream",
     "text": [
      "shape train_X : (138, 14)\n",
      "shape train_y : (138,)\n",
      "shape val_X : (35, 14)\n",
      "shape val_y : (35,)\n"
     ]
    }
   ],
   "source": [
    "print(\"shape train_X :\", train_X.shape)\n",
    "print(\"shape train_y :\", train_y.shape)\n",
    "print(\"shape val_X :\", test_X.shape)\n",
    "print(\"shape val_y :\", test_y.shape)"
   ]
  },
  {
   "cell_type": "markdown",
   "metadata": {},
   "source": [
    "### Tiền xử lí ( tập huấn luyện )"
   ]
  },
  {
   "cell_type": "markdown",
   "metadata": {},
   "source": [
    "#### Class Tiền xử lí\n",
    "\n",
    "   - Class này sẽ xóa các cột `abbreviation`, `capital_city`, `updated`,`lat`,`long`.\n",
    "   \n",
    "   - Chuyển dữ liệu cột `deaths` thành **5** khoảng như sau(nguyên nhân chuyển mình có đề cập ở phần ***Khám phá dữ liệu***:\n",
    "\n",
    "        - 0 -> 100: Lưu vào **0**\n",
    "        - 100 -> 500: Lưu vào **1**\n",
    "        - 500 -> 1500: Lưu vào **2**\n",
    "        - 1500 -> 5000: Lưu vào **3**\n",
    "        - 5000 -> Max:  Lưu vào **4**\n",
    "\n",
    "- Nhận thấy kiểu dữ liệu của `life_expectancy` là **object** nhưng cột này lại hiển thị độ tuổi. Nên chúng ta sẽ gán lại kiểu giá trị cột này về **float**"
   ]
  },
  {
   "cell_type": "code",
   "execution_count": 19,
   "metadata": {},
   "outputs": [],
   "source": [
    "class ColAdderDropper(BaseEstimator, TransformerMixin):\n",
    "    def fit(self, X_df, y=None):\n",
    "        return self\n",
    "    def transform(self, X_df, y=None):\n",
    "        df = X_df.copy()\n",
    "        unused_cols = ['abbreviation','capital_city', 'updated','lat','long']\n",
    "        df=df.drop(unused_cols,axis=1)\n",
    "        df=df.astype({'confirmed':'float64','recovered':'float64'})\n",
    "        df['elevation_in_meters'] = pd.to_numeric(df['elevation_in_meters'],errors='coerce')\n",
    "        df['life_expectancy'] = pd.to_numeric(df['life_expectancy'],errors='coerce')\n",
    "        return df"
   ]
  },
  {
   "cell_type": "markdown",
   "metadata": {},
   "source": [
    "### Fit & Transform\n",
    "\n",
    "Fit và Transform tập **`train_X`**"
   ]
  },
  {
   "cell_type": "code",
   "execution_count": 20,
   "metadata": {
    "scrolled": true
   },
   "outputs": [
    {
     "data": {
      "text/html": [
       "<style>div.sk-top-container {color: black;background-color: white;}div.sk-toggleable {background-color: white;}label.sk-toggleable__label {cursor: pointer;display: block;width: 100%;margin-bottom: 0;padding: 0.2em 0.3em;box-sizing: border-box;text-align: center;}div.sk-toggleable__content {max-height: 0;max-width: 0;overflow: hidden;text-align: left;background-color: #f0f8ff;}div.sk-toggleable__content pre {margin: 0.2em;color: black;border-radius: 0.25em;background-color: #f0f8ff;}input.sk-toggleable__control:checked~div.sk-toggleable__content {max-height: 200px;max-width: 100%;overflow: auto;}div.sk-estimator input.sk-toggleable__control:checked~label.sk-toggleable__label {background-color: #d4ebff;}div.sk-label input.sk-toggleable__control:checked~label.sk-toggleable__label {background-color: #d4ebff;}input.sk-hidden--visually {border: 0;clip: rect(1px 1px 1px 1px);clip: rect(1px, 1px, 1px, 1px);height: 1px;margin: -1px;overflow: hidden;padding: 0;position: absolute;width: 1px;}div.sk-estimator {font-family: monospace;background-color: #f0f8ff;margin: 0.25em 0.25em;border: 1px dotted black;border-radius: 0.25em;box-sizing: border-box;}div.sk-estimator:hover {background-color: #d4ebff;}div.sk-parallel-item::after {content: \"\";width: 100%;border-bottom: 1px solid gray;flex-grow: 1;}div.sk-label:hover label.sk-toggleable__label {background-color: #d4ebff;}div.sk-serial::before {content: \"\";position: absolute;border-left: 1px solid gray;box-sizing: border-box;top: 2em;bottom: 0;left: 50%;}div.sk-serial {display: flex;flex-direction: column;align-items: center;background-color: white;}div.sk-item {z-index: 1;}div.sk-parallel {display: flex;align-items: stretch;justify-content: center;background-color: white;}div.sk-parallel-item {display: flex;flex-direction: column;position: relative;background-color: white;}div.sk-parallel-item:first-child::after {align-self: flex-end;width: 50%;}div.sk-parallel-item:last-child::after {align-self: flex-start;width: 50%;}div.sk-parallel-item:only-child::after {width: 0;}div.sk-dashed-wrapped {border: 1px dashed gray;margin: 0.2em;box-sizing: border-box;padding-bottom: 0.1em;background-color: white;position: relative;}div.sk-label label {font-family: monospace;font-weight: bold;background-color: white;display: inline-block;line-height: 1.2em;}div.sk-label-container {position: relative;z-index: 2;text-align: center;}div.sk-container {display: inline-block;position: relative;}</style><div class=\"sk-top-container\"><div class=\"sk-container\"><div class=\"sk-item\"><div class=\"sk-estimator sk-toggleable\"><input class=\"sk-toggleable__control sk-hidden--visually\" id=\"2e9a55ac-0ca2-44dc-9031-8b8637de3107\" type=\"checkbox\" checked><label class=\"sk-toggleable__label\" for=\"2e9a55ac-0ca2-44dc-9031-8b8637de3107\">ColAdderDropper</label><div class=\"sk-toggleable__content\"><pre>ColAdderDropper()</pre></div></div></div></div></div>"
      ],
      "text/plain": [
       "ColAdderDropper()"
      ]
     },
     "execution_count": 20,
     "metadata": {},
     "output_type": "execute_result"
    }
   ],
   "source": [
    "col_adderdropper = ColAdderDropper()\n",
    "col_adderdropper.fit(train_X)\n",
    "col_adderdropper.transform(train_X)\n",
    "col_adderdropper"
   ]
  },
  {
   "cell_type": "markdown",
   "metadata": {},
   "source": [
    "### Kiểu dữ liệu của các cột sau xử lí"
   ]
  },
  {
   "cell_type": "code",
   "execution_count": 21,
   "metadata": {
    "scrolled": false
   },
   "outputs": [
    {
     "data": {
      "text/plain": [
       "confirmed              float64\n",
       "recovered              float64\n",
       "population             float64\n",
       "sq_km_area             float64\n",
       "life_expectancy        float64\n",
       "elevation_in_meters    float64\n",
       "continent               object\n",
       "location                object\n",
       "iso                    float64\n",
       "dtype: object"
      ]
     },
     "execution_count": 21,
     "metadata": {},
     "output_type": "execute_result"
    }
   ],
   "source": [
    "col_adderdropper.transform(train_X).dtypes"
   ]
  },
  {
   "cell_type": "markdown",
   "metadata": {},
   "source": [
    "Kích thước tập **`train_X`**"
   ]
  },
  {
   "cell_type": "code",
   "execution_count": 22,
   "metadata": {},
   "outputs": [
    {
     "data": {
      "text/plain": [
       "(138, 9)"
      ]
     },
     "execution_count": 22,
     "metadata": {},
     "output_type": "execute_result"
    }
   ],
   "source": [
    "col_adderdropper.transform(train_X).shape"
   ]
  },
  {
   "cell_type": "markdown",
   "metadata": {},
   "source": [
    "### Thống kê các giá trị NA của từng cột"
   ]
  },
  {
   "cell_type": "code",
   "execution_count": 23,
   "metadata": {},
   "outputs": [
    {
     "data": {
      "text/plain": [
       "confirmed               0\n",
       "recovered               0\n",
       "population              2\n",
       "sq_km_area              2\n",
       "life_expectancy         4\n",
       "elevation_in_meters    44\n",
       "continent               2\n",
       "location                2\n",
       "iso                     3\n",
       "dtype: int64"
      ]
     },
     "execution_count": 23,
     "metadata": {},
     "output_type": "execute_result"
    }
   ],
   "source": [
    "col_adderdropper.transform(train_X).isna().sum()"
   ]
  },
  {
   "cell_type": "markdown",
   "metadata": {},
   "source": [
    "### Kiểm tra sau khi fit&transform tập train_X không bị thay đổi"
   ]
  },
  {
   "cell_type": "code",
   "execution_count": 24,
   "metadata": {
    "scrolled": true
   },
   "outputs": [
    {
     "data": {
      "text/plain": [
       "(138, 14)"
      ]
     },
     "execution_count": 24,
     "metadata": {},
     "output_type": "execute_result"
    }
   ],
   "source": [
    "train_X.shape"
   ]
  },
  {
   "cell_type": "markdown",
   "metadata": {},
   "source": [
    "### Điền giá trị thiếu"
   ]
  },
  {
   "cell_type": "markdown",
   "metadata": {},
   "source": [
    "- Sau khi loại bỏ các cột mà em nghĩ là không cần thiết thì chúng ta còn lại các cột sau đây: `confirmed`,`recovered`,`population`,`sq_km_area`,`life_expectancy`,`iso`,`elevation_in_meters`,`loacation`.\n",
    "\n",
    "\n",
    "- Trong đó:\n",
    "\n",
    "    - Các cột dạng số là `confirmed`,`recovered`,`population`,`sq_km_area`,`life_expectancy`,`iso`,`elevation_in_meters`.\n",
    "\n",
    "    - Các cột không phải dạng số là: \n",
    "        - `loacation` ta nhận thấy đây không phải là cột có thứ tự:\n",
    "    \n",
    "            - Ta sẽ điền các giá trị thiếu bằng mode.\n",
    "            - Chuyển sang dạng số bằng phương pháp mã One-hot.\n",
    "        \n",
    "- Sau đó chúng ta sẽ dùng hàm chuẩn hóa `StandardScaler` của **Sklearn** để các thuật toán cực tiểu hóa hội tụ nhanh hơn."
   ]
  },
  {
   "cell_type": "code",
   "execution_count": 25,
   "metadata": {},
   "outputs": [
    {
     "data": {
      "text/html": [
       "<style>div.sk-top-container {color: black;background-color: white;}div.sk-toggleable {background-color: white;}label.sk-toggleable__label {cursor: pointer;display: block;width: 100%;margin-bottom: 0;padding: 0.2em 0.3em;box-sizing: border-box;text-align: center;}div.sk-toggleable__content {max-height: 0;max-width: 0;overflow: hidden;text-align: left;background-color: #f0f8ff;}div.sk-toggleable__content pre {margin: 0.2em;color: black;border-radius: 0.25em;background-color: #f0f8ff;}input.sk-toggleable__control:checked~div.sk-toggleable__content {max-height: 200px;max-width: 100%;overflow: auto;}div.sk-estimator input.sk-toggleable__control:checked~label.sk-toggleable__label {background-color: #d4ebff;}div.sk-label input.sk-toggleable__control:checked~label.sk-toggleable__label {background-color: #d4ebff;}input.sk-hidden--visually {border: 0;clip: rect(1px 1px 1px 1px);clip: rect(1px, 1px, 1px, 1px);height: 1px;margin: -1px;overflow: hidden;padding: 0;position: absolute;width: 1px;}div.sk-estimator {font-family: monospace;background-color: #f0f8ff;margin: 0.25em 0.25em;border: 1px dotted black;border-radius: 0.25em;box-sizing: border-box;}div.sk-estimator:hover {background-color: #d4ebff;}div.sk-parallel-item::after {content: \"\";width: 100%;border-bottom: 1px solid gray;flex-grow: 1;}div.sk-label:hover label.sk-toggleable__label {background-color: #d4ebff;}div.sk-serial::before {content: \"\";position: absolute;border-left: 1px solid gray;box-sizing: border-box;top: 2em;bottom: 0;left: 50%;}div.sk-serial {display: flex;flex-direction: column;align-items: center;background-color: white;}div.sk-item {z-index: 1;}div.sk-parallel {display: flex;align-items: stretch;justify-content: center;background-color: white;}div.sk-parallel-item {display: flex;flex-direction: column;position: relative;background-color: white;}div.sk-parallel-item:first-child::after {align-self: flex-end;width: 50%;}div.sk-parallel-item:last-child::after {align-self: flex-start;width: 50%;}div.sk-parallel-item:only-child::after {width: 0;}div.sk-dashed-wrapped {border: 1px dashed gray;margin: 0.2em;box-sizing: border-box;padding-bottom: 0.1em;background-color: white;position: relative;}div.sk-label label {font-family: monospace;font-weight: bold;background-color: white;display: inline-block;line-height: 1.2em;}div.sk-label-container {position: relative;z-index: 2;text-align: center;}div.sk-container {display: inline-block;position: relative;}</style><div class=\"sk-top-container\"><div class=\"sk-container\"><div class=\"sk-item sk-dashed-wrapped\"><div class=\"sk-label-container\"><div class=\"sk-label sk-toggleable\"><input class=\"sk-toggleable__control sk-hidden--visually\" id=\"adc90f65-55df-43db-aed0-c78fd451c9c2\" type=\"checkbox\" ><label class=\"sk-toggleable__label\" for=\"adc90f65-55df-43db-aed0-c78fd451c9c2\">Pipeline</label><div class=\"sk-toggleable__content\"><pre>Pipeline(steps=[('coladderdropper', ColAdderDropper()),\n",
       "                ('columntransformer',\n",
       "                 ColumnTransformer(transformers=[('mean_for_nume_cols',\n",
       "                                                  SimpleImputer(),\n",
       "                                                  ['confirmed', 'recovered',\n",
       "                                                   'population', 'sq_km_area',\n",
       "                                                   'life_expectancy', 'iso',\n",
       "                                                   'elevation_in_meters']),\n",
       "                                                 ('mode_encode_for_cate_cols',\n",
       "                                                  Pipeline(steps=[('simpleimputer',\n",
       "                                                                   SimpleImputer(strategy='most_frequent')),\n",
       "                                                                  ('onehotencoder',\n",
       "                                                                   OneHotEncoder(handle_unknown='ignore'))]),\n",
       "                                                  ['continent'])])),\n",
       "                ('standardscaler', StandardScaler())])</pre></div></div></div><div class=\"sk-serial\"><div class=\"sk-item\"><div class=\"sk-estimator sk-toggleable\"><input class=\"sk-toggleable__control sk-hidden--visually\" id=\"b41b2cc0-c97d-4325-bc1f-f0dc8b4e0bc6\" type=\"checkbox\" ><label class=\"sk-toggleable__label\" for=\"b41b2cc0-c97d-4325-bc1f-f0dc8b4e0bc6\">ColAdderDropper</label><div class=\"sk-toggleable__content\"><pre>ColAdderDropper()</pre></div></div></div><div class=\"sk-item sk-dashed-wrapped\"><div class=\"sk-label-container\"><div class=\"sk-label sk-toggleable\"><input class=\"sk-toggleable__control sk-hidden--visually\" id=\"1332757a-ec33-4c94-b36e-eb2dfa99149c\" type=\"checkbox\" ><label class=\"sk-toggleable__label\" for=\"1332757a-ec33-4c94-b36e-eb2dfa99149c\">columntransformer: ColumnTransformer</label><div class=\"sk-toggleable__content\"><pre>ColumnTransformer(transformers=[('mean_for_nume_cols', SimpleImputer(),\n",
       "                                 ['confirmed', 'recovered', 'population',\n",
       "                                  'sq_km_area', 'life_expectancy', 'iso',\n",
       "                                  'elevation_in_meters']),\n",
       "                                ('mode_encode_for_cate_cols',\n",
       "                                 Pipeline(steps=[('simpleimputer',\n",
       "                                                  SimpleImputer(strategy='most_frequent')),\n",
       "                                                 ('onehotencoder',\n",
       "                                                  OneHotEncoder(handle_unknown='ignore'))]),\n",
       "                                 ['continent'])])</pre></div></div></div><div class=\"sk-parallel\"><div class=\"sk-parallel-item\"><div class=\"sk-item\"><div class=\"sk-label-container\"><div class=\"sk-label sk-toggleable\"><input class=\"sk-toggleable__control sk-hidden--visually\" id=\"37104ad2-a481-4aac-b274-8eaf86102922\" type=\"checkbox\" ><label class=\"sk-toggleable__label\" for=\"37104ad2-a481-4aac-b274-8eaf86102922\">mean_for_nume_cols</label><div class=\"sk-toggleable__content\"><pre>['confirmed', 'recovered', 'population', 'sq_km_area', 'life_expectancy', 'iso', 'elevation_in_meters']</pre></div></div></div><div class=\"sk-serial\"><div class=\"sk-item\"><div class=\"sk-estimator sk-toggleable\"><input class=\"sk-toggleable__control sk-hidden--visually\" id=\"89ad1adb-096f-42f6-95a7-b1968579e19a\" type=\"checkbox\" ><label class=\"sk-toggleable__label\" for=\"89ad1adb-096f-42f6-95a7-b1968579e19a\">SimpleImputer</label><div class=\"sk-toggleable__content\"><pre>SimpleImputer()</pre></div></div></div></div></div></div><div class=\"sk-parallel-item\"><div class=\"sk-item\"><div class=\"sk-label-container\"><div class=\"sk-label sk-toggleable\"><input class=\"sk-toggleable__control sk-hidden--visually\" id=\"79b5ee83-e44a-42d8-b05a-717f41400e45\" type=\"checkbox\" ><label class=\"sk-toggleable__label\" for=\"79b5ee83-e44a-42d8-b05a-717f41400e45\">mode_encode_for_cate_cols</label><div class=\"sk-toggleable__content\"><pre>['continent']</pre></div></div></div><div class=\"sk-serial\"><div class=\"sk-item\"><div class=\"sk-serial\"><div class=\"sk-item\"><div class=\"sk-estimator sk-toggleable\"><input class=\"sk-toggleable__control sk-hidden--visually\" id=\"427366ba-aa62-438a-94d5-97232e725700\" type=\"checkbox\" ><label class=\"sk-toggleable__label\" for=\"427366ba-aa62-438a-94d5-97232e725700\">SimpleImputer</label><div class=\"sk-toggleable__content\"><pre>SimpleImputer(strategy='most_frequent')</pre></div></div></div><div class=\"sk-item\"><div class=\"sk-estimator sk-toggleable\"><input class=\"sk-toggleable__control sk-hidden--visually\" id=\"560e70d0-8b5a-4d43-a107-40d42f1966cb\" type=\"checkbox\" ><label class=\"sk-toggleable__label\" for=\"560e70d0-8b5a-4d43-a107-40d42f1966cb\">OneHotEncoder</label><div class=\"sk-toggleable__content\"><pre>OneHotEncoder(handle_unknown='ignore')</pre></div></div></div></div></div></div></div></div></div></div><div class=\"sk-item\"><div class=\"sk-estimator sk-toggleable\"><input class=\"sk-toggleable__control sk-hidden--visually\" id=\"3a626934-e8b8-4de6-8c13-f7e0c148db18\" type=\"checkbox\" ><label class=\"sk-toggleable__label\" for=\"3a626934-e8b8-4de6-8c13-f7e0c148db18\">StandardScaler</label><div class=\"sk-toggleable__content\"><pre>StandardScaler()</pre></div></div></div></div></div></div></div>"
      ],
      "text/plain": [
       "Pipeline(steps=[('coladderdropper', ColAdderDropper()),\n",
       "                ('columntransformer',\n",
       "                 ColumnTransformer(transformers=[('mean_for_nume_cols',\n",
       "                                                  SimpleImputer(),\n",
       "                                                  ['confirmed', 'recovered',\n",
       "                                                   'population', 'sq_km_area',\n",
       "                                                   'life_expectancy', 'iso',\n",
       "                                                   'elevation_in_meters']),\n",
       "                                                 ('mode_encode_for_cate_cols',\n",
       "                                                  Pipeline(steps=[('simpleimputer',\n",
       "                                                                   SimpleImputer(strategy='most_frequent')),\n",
       "                                                                  ('onehotencoder',\n",
       "                                                                   OneHotEncoder(handle_unknown='ignore'))]),\n",
       "                                                  ['continent'])])),\n",
       "                ('standardscaler', StandardScaler())])"
      ]
     },
     "execution_count": 25,
     "metadata": {},
     "output_type": "execute_result"
    }
   ],
   "source": [
    "nume_cols=['confirmed','recovered','population','sq_km_area','life_expectancy','iso','elevation_in_meters']\n",
    "cate_cols=['continent']\n",
    "\n",
    "mean = SimpleImputer(strategy='mean')\n",
    "mode = SimpleImputer(strategy='most_frequent') \n",
    "mode_encode = make_pipeline(mode,OneHotEncoder(handle_unknown='ignore'))\n",
    "\n",
    "colTransform = ColumnTransformer([('mean_for_nume_cols',mean, nume_cols),\\\n",
    "                                 ('mode_encode_for_cate_cols',mode_encode,cate_cols)])\n",
    "\n",
    "colNormalize = StandardScaler()\n",
    "preprocess_pipeline = make_pipeline(col_adderdropper,colTransform,colNormalize)\n",
    "\n",
    "preprocessed_train_X=preprocess_pipeline.fit_transform(train_X)\n",
    "\n",
    "preprocess_pipeline\n"
   ]
  },
  {
   "cell_type": "markdown",
   "metadata": {},
   "source": [
    "### Tìm mô hình tốt nhất"
   ]
  },
  {
   "cell_type": "markdown",
   "metadata": {},
   "source": [
    "- Em sử dụng mô hình **`Neural Net`** để phân lớp. Với các siêu tham số activation='tanh', solver='lbfgs', random_state=0\n",
    "\n",
    "- Siêu tham số `alpha` (mức độ L2 regularization hay weight decay) của `MLPClassifier` với 5 giá trị khác nhau: 0.1, 1, 10, 100, 1000.\n",
    "\n",
    "- Siêu tham số `max_iter`là số lần lặp tối đa với 5 giá trị 100,500,1000,2000,2500\n",
    "\n",
    "- Siêu tham số `hidden_layer_sizes` -2  là số lớp ẩn với 5 giá trị 100,500,1000,2000,2500\n",
    "\n",
    "\n",
    "\n",
    "Sau khi chạy thì có vài dòng thông báo màu **đỏ**, đây chỉ là thông báo hiển thị chưa hội tụ(do `iter` max nhỏ).\n",
    "\n",
    "Tổng cộng có **3** vòng lặp for đẫn đến quá trình chạy hơi lâu(khoảng 30s)."
   ]
  },
  {
   "cell_type": "code",
   "execution_count": 26,
   "metadata": {
    "scrolled": true
   },
   "outputs": [
    {
     "name": "stderr",
     "output_type": "stream",
     "text": [
      "C:\\Users\\ADMIN\\anaconda3\\lib\\site-packages\\sklearn\\neural_network\\_multilayer_perceptron.py:471: ConvergenceWarning: lbfgs failed to converge (status=1):\n",
      "STOP: TOTAL NO. of ITERATIONS REACHED LIMIT.\n",
      "\n",
      "Increase the number of iterations (max_iter) or scale the data as shown in:\n",
      "    https://scikit-learn.org/stable/modules/preprocessing.html\n",
      "  self.n_iter_ = _check_optimize_result(\"lbfgs\", opt_res, self.max_iter)\n",
      "C:\\Users\\ADMIN\\anaconda3\\lib\\site-packages\\sklearn\\neural_network\\_multilayer_perceptron.py:471: ConvergenceWarning: lbfgs failed to converge (status=1):\n",
      "STOP: TOTAL NO. of ITERATIONS REACHED LIMIT.\n",
      "\n",
      "Increase the number of iterations (max_iter) or scale the data as shown in:\n",
      "    https://scikit-learn.org/stable/modules/preprocessing.html\n",
      "  self.n_iter_ = _check_optimize_result(\"lbfgs\", opt_res, self.max_iter)\n",
      "C:\\Users\\ADMIN\\anaconda3\\lib\\site-packages\\sklearn\\neural_network\\_multilayer_perceptron.py:471: ConvergenceWarning: lbfgs failed to converge (status=1):\n",
      "STOP: TOTAL NO. of ITERATIONS REACHED LIMIT.\n",
      "\n",
      "Increase the number of iterations (max_iter) or scale the data as shown in:\n",
      "    https://scikit-learn.org/stable/modules/preprocessing.html\n",
      "  self.n_iter_ = _check_optimize_result(\"lbfgs\", opt_res, self.max_iter)\n",
      "C:\\Users\\ADMIN\\anaconda3\\lib\\site-packages\\sklearn\\neural_network\\_multilayer_perceptron.py:471: ConvergenceWarning: lbfgs failed to converge (status=1):\n",
      "STOP: TOTAL NO. of ITERATIONS REACHED LIMIT.\n",
      "\n",
      "Increase the number of iterations (max_iter) or scale the data as shown in:\n",
      "    https://scikit-learn.org/stable/modules/preprocessing.html\n",
      "  self.n_iter_ = _check_optimize_result(\"lbfgs\", opt_res, self.max_iter)\n",
      "C:\\Users\\ADMIN\\anaconda3\\lib\\site-packages\\sklearn\\neural_network\\_multilayer_perceptron.py:471: ConvergenceWarning: lbfgs failed to converge (status=1):\n",
      "STOP: TOTAL NO. of ITERATIONS REACHED LIMIT.\n",
      "\n",
      "Increase the number of iterations (max_iter) or scale the data as shown in:\n",
      "    https://scikit-learn.org/stable/modules/preprocessing.html\n",
      "  self.n_iter_ = _check_optimize_result(\"lbfgs\", opt_res, self.max_iter)\n",
      "C:\\Users\\ADMIN\\anaconda3\\lib\\site-packages\\sklearn\\neural_network\\_multilayer_perceptron.py:471: ConvergenceWarning: lbfgs failed to converge (status=1):\n",
      "STOP: TOTAL NO. of ITERATIONS REACHED LIMIT.\n",
      "\n",
      "Increase the number of iterations (max_iter) or scale the data as shown in:\n",
      "    https://scikit-learn.org/stable/modules/preprocessing.html\n",
      "  self.n_iter_ = _check_optimize_result(\"lbfgs\", opt_res, self.max_iter)\n",
      "C:\\Users\\ADMIN\\anaconda3\\lib\\site-packages\\sklearn\\neural_network\\_multilayer_perceptron.py:471: ConvergenceWarning: lbfgs failed to converge (status=1):\n",
      "STOP: TOTAL NO. of ITERATIONS REACHED LIMIT.\n",
      "\n",
      "Increase the number of iterations (max_iter) or scale the data as shown in:\n",
      "    https://scikit-learn.org/stable/modules/preprocessing.html\n",
      "  self.n_iter_ = _check_optimize_result(\"lbfgs\", opt_res, self.max_iter)\n",
      "C:\\Users\\ADMIN\\anaconda3\\lib\\site-packages\\sklearn\\neural_network\\_multilayer_perceptron.py:471: ConvergenceWarning: lbfgs failed to converge (status=1):\n",
      "STOP: TOTAL NO. of ITERATIONS REACHED LIMIT.\n",
      "\n",
      "Increase the number of iterations (max_iter) or scale the data as shown in:\n",
      "    https://scikit-learn.org/stable/modules/preprocessing.html\n",
      "  self.n_iter_ = _check_optimize_result(\"lbfgs\", opt_res, self.max_iter)\n",
      "C:\\Users\\ADMIN\\anaconda3\\lib\\site-packages\\sklearn\\neural_network\\_multilayer_perceptron.py:471: ConvergenceWarning: lbfgs failed to converge (status=1):\n",
      "STOP: TOTAL NO. of ITERATIONS REACHED LIMIT.\n",
      "\n",
      "Increase the number of iterations (max_iter) or scale the data as shown in:\n",
      "    https://scikit-learn.org/stable/modules/preprocessing.html\n",
      "  self.n_iter_ = _check_optimize_result(\"lbfgs\", opt_res, self.max_iter)\n",
      "C:\\Users\\ADMIN\\anaconda3\\lib\\site-packages\\sklearn\\neural_network\\_multilayer_perceptron.py:471: ConvergenceWarning: lbfgs failed to converge (status=1):\n",
      "STOP: TOTAL NO. of ITERATIONS REACHED LIMIT.\n",
      "\n",
      "Increase the number of iterations (max_iter) or scale the data as shown in:\n",
      "    https://scikit-learn.org/stable/modules/preprocessing.html\n",
      "  self.n_iter_ = _check_optimize_result(\"lbfgs\", opt_res, self.max_iter)\n",
      "C:\\Users\\ADMIN\\anaconda3\\lib\\site-packages\\sklearn\\neural_network\\_multilayer_perceptron.py:471: ConvergenceWarning: lbfgs failed to converge (status=1):\n",
      "STOP: TOTAL NO. of ITERATIONS REACHED LIMIT.\n",
      "\n",
      "Increase the number of iterations (max_iter) or scale the data as shown in:\n",
      "    https://scikit-learn.org/stable/modules/preprocessing.html\n",
      "  self.n_iter_ = _check_optimize_result(\"lbfgs\", opt_res, self.max_iter)\n"
     ]
    }
   ],
   "source": [
    "mlpclassifier = MLPClassifier(hidden_layer_sizes=(20), activation='tanh', solver='lbfgs', random_state=0)\n",
    "full_pipeline = make_pipeline(col_adderdropper, colTransform, colNormalize, mlpclassifier)\n",
    "\n",
    "train_errs = []\n",
    "val_errs = []\n",
    "alphas = [0.1, 1, 10, 100, 1000]\n",
    "max_iter= [100,500,1000,2000,2500]\n",
    "hidden_layer_sizes=[2,5,10,20,40]\n",
    "best_val_err = float('inf'); best_alpha = None;best_iter=None;best_hidden_layer=None\n",
    "for hidden_layer in hidden_layer_sizes:\n",
    "    for iter_ in max_iter:\n",
    "        for alpha in alphas:\n",
    "            full_pipeline.set_params(mlpclassifier__alpha=alpha,mlpclassifier__max_iter=iter_,\\\n",
    "                                     mlpclassifier__hidden_layer_sizes=hidden_layer)\n",
    "            full_pipeline.fit(train_1_X, train_1_y)\n",
    "            full_pipeline.predict(val_1_X)\n",
    "            train_score = full_pipeline.score(train_1_X,train_1_y)\n",
    "            val_score = full_pipeline.score(val_1_X, val_1_y)\n",
    "            train_err, val_err = (1 - train_score) * 100, (1 - val_score) * 100\n",
    "            train_errs.append(train_err)\n",
    "            val_errs.append(val_err)\n",
    "            if best_val_err > val_err:\n",
    "                best_val_err = val_err\n",
    "                best_alpha = alpha\n",
    "                best_iter=iter_\n",
    "                best_hidden_layer=hidden_layer\n",
    "            "
   ]
  },
  {
   "cell_type": "markdown",
   "metadata": {},
   "source": [
    "#### Giá trị alpha & độ lỗi tốt nhất \n"
   ]
  },
  {
   "cell_type": "markdown",
   "metadata": {},
   "source": [
    "Sau khi chạy vòng lặp thì thu được kết quả các giá trị **`best_val_err`**,**`best_alpha`**,**`best_iter`**,**`best_hidden_layer`** như sau:"
   ]
  },
  {
   "cell_type": "code",
   "execution_count": 27,
   "metadata": {
    "scrolled": false
   },
   "outputs": [
    {
     "name": "stdout",
     "output_type": "stream",
     "text": [
      "best_val_err :  28.57142857142857\n",
      "best_alpha :  1\n",
      "best_iter : 500\n",
      "best_hidden_layer 5\n"
     ]
    }
   ],
   "source": [
    "print(\"best_val_err : \", best_val_err)\n",
    "print(\"best_alpha : \" ,best_alpha)\n",
    "print(\"best_iter :\",best_iter)\n",
    "print(\"best_hidden_layer\",best_hidden_layer)"
   ]
  },
  {
   "cell_type": "markdown",
   "metadata": {},
   "source": [
    "#### Fit mô hình với alpha và iter tốt nhất"
   ]
  },
  {
   "cell_type": "code",
   "execution_count": 28,
   "metadata": {},
   "outputs": [
    {
     "data": {
      "text/html": [
       "<style>div.sk-top-container {color: black;background-color: white;}div.sk-toggleable {background-color: white;}label.sk-toggleable__label {cursor: pointer;display: block;width: 100%;margin-bottom: 0;padding: 0.2em 0.3em;box-sizing: border-box;text-align: center;}div.sk-toggleable__content {max-height: 0;max-width: 0;overflow: hidden;text-align: left;background-color: #f0f8ff;}div.sk-toggleable__content pre {margin: 0.2em;color: black;border-radius: 0.25em;background-color: #f0f8ff;}input.sk-toggleable__control:checked~div.sk-toggleable__content {max-height: 200px;max-width: 100%;overflow: auto;}div.sk-estimator input.sk-toggleable__control:checked~label.sk-toggleable__label {background-color: #d4ebff;}div.sk-label input.sk-toggleable__control:checked~label.sk-toggleable__label {background-color: #d4ebff;}input.sk-hidden--visually {border: 0;clip: rect(1px 1px 1px 1px);clip: rect(1px, 1px, 1px, 1px);height: 1px;margin: -1px;overflow: hidden;padding: 0;position: absolute;width: 1px;}div.sk-estimator {font-family: monospace;background-color: #f0f8ff;margin: 0.25em 0.25em;border: 1px dotted black;border-radius: 0.25em;box-sizing: border-box;}div.sk-estimator:hover {background-color: #d4ebff;}div.sk-parallel-item::after {content: \"\";width: 100%;border-bottom: 1px solid gray;flex-grow: 1;}div.sk-label:hover label.sk-toggleable__label {background-color: #d4ebff;}div.sk-serial::before {content: \"\";position: absolute;border-left: 1px solid gray;box-sizing: border-box;top: 2em;bottom: 0;left: 50%;}div.sk-serial {display: flex;flex-direction: column;align-items: center;background-color: white;}div.sk-item {z-index: 1;}div.sk-parallel {display: flex;align-items: stretch;justify-content: center;background-color: white;}div.sk-parallel-item {display: flex;flex-direction: column;position: relative;background-color: white;}div.sk-parallel-item:first-child::after {align-self: flex-end;width: 50%;}div.sk-parallel-item:last-child::after {align-self: flex-start;width: 50%;}div.sk-parallel-item:only-child::after {width: 0;}div.sk-dashed-wrapped {border: 1px dashed gray;margin: 0.2em;box-sizing: border-box;padding-bottom: 0.1em;background-color: white;position: relative;}div.sk-label label {font-family: monospace;font-weight: bold;background-color: white;display: inline-block;line-height: 1.2em;}div.sk-label-container {position: relative;z-index: 2;text-align: center;}div.sk-container {display: inline-block;position: relative;}</style><div class=\"sk-top-container\"><div class=\"sk-container\"><div class=\"sk-item sk-dashed-wrapped\"><div class=\"sk-label-container\"><div class=\"sk-label sk-toggleable\"><input class=\"sk-toggleable__control sk-hidden--visually\" id=\"afcb9384-0881-4cf0-b8f8-00afd2946233\" type=\"checkbox\" ><label class=\"sk-toggleable__label\" for=\"afcb9384-0881-4cf0-b8f8-00afd2946233\">Pipeline</label><div class=\"sk-toggleable__content\"><pre>Pipeline(steps=[('coladderdropper', ColAdderDropper()),\n",
       "                ('columntransformer',\n",
       "                 ColumnTransformer(transformers=[('mean_for_nume_cols',\n",
       "                                                  SimpleImputer(),\n",
       "                                                  ['confirmed', 'recovered',\n",
       "                                                   'population', 'sq_km_area',\n",
       "                                                   'life_expectancy', 'iso',\n",
       "                                                   'elevation_in_meters']),\n",
       "                                                 ('mode_encode_for_cate_cols',\n",
       "                                                  Pipeline(steps=[('simpleimputer',\n",
       "                                                                   SimpleImputer(strategy='most_frequent')),\n",
       "                                                                  ('onehotencoder',\n",
       "                                                                   OneHotEncoder(handle_unknown='ignore'))]),\n",
       "                                                  ['continent'])])),\n",
       "                ('standardscaler', StandardScaler()),\n",
       "                ('mlpclassifier',\n",
       "                 MLPClassifier(activation='tanh', alpha=1, hidden_layer_sizes=5,\n",
       "                               max_iter=2500, random_state=0,\n",
       "                               solver='lbfgs'))])</pre></div></div></div><div class=\"sk-serial\"><div class=\"sk-item\"><div class=\"sk-estimator sk-toggleable\"><input class=\"sk-toggleable__control sk-hidden--visually\" id=\"776eaba5-5d85-4509-bb84-b478a5a9657d\" type=\"checkbox\" ><label class=\"sk-toggleable__label\" for=\"776eaba5-5d85-4509-bb84-b478a5a9657d\">ColAdderDropper</label><div class=\"sk-toggleable__content\"><pre>ColAdderDropper()</pre></div></div></div><div class=\"sk-item sk-dashed-wrapped\"><div class=\"sk-label-container\"><div class=\"sk-label sk-toggleable\"><input class=\"sk-toggleable__control sk-hidden--visually\" id=\"41fb42ad-be23-4ed6-a804-2abee8a9b4e7\" type=\"checkbox\" ><label class=\"sk-toggleable__label\" for=\"41fb42ad-be23-4ed6-a804-2abee8a9b4e7\">columntransformer: ColumnTransformer</label><div class=\"sk-toggleable__content\"><pre>ColumnTransformer(transformers=[('mean_for_nume_cols', SimpleImputer(),\n",
       "                                 ['confirmed', 'recovered', 'population',\n",
       "                                  'sq_km_area', 'life_expectancy', 'iso',\n",
       "                                  'elevation_in_meters']),\n",
       "                                ('mode_encode_for_cate_cols',\n",
       "                                 Pipeline(steps=[('simpleimputer',\n",
       "                                                  SimpleImputer(strategy='most_frequent')),\n",
       "                                                 ('onehotencoder',\n",
       "                                                  OneHotEncoder(handle_unknown='ignore'))]),\n",
       "                                 ['continent'])])</pre></div></div></div><div class=\"sk-parallel\"><div class=\"sk-parallel-item\"><div class=\"sk-item\"><div class=\"sk-label-container\"><div class=\"sk-label sk-toggleable\"><input class=\"sk-toggleable__control sk-hidden--visually\" id=\"dcf6df66-1299-47f2-a30d-dc3283b81005\" type=\"checkbox\" ><label class=\"sk-toggleable__label\" for=\"dcf6df66-1299-47f2-a30d-dc3283b81005\">mean_for_nume_cols</label><div class=\"sk-toggleable__content\"><pre>['confirmed', 'recovered', 'population', 'sq_km_area', 'life_expectancy', 'iso', 'elevation_in_meters']</pre></div></div></div><div class=\"sk-serial\"><div class=\"sk-item\"><div class=\"sk-estimator sk-toggleable\"><input class=\"sk-toggleable__control sk-hidden--visually\" id=\"ba74cf11-f86d-4ebc-b0f9-d4bdf301b8e1\" type=\"checkbox\" ><label class=\"sk-toggleable__label\" for=\"ba74cf11-f86d-4ebc-b0f9-d4bdf301b8e1\">SimpleImputer</label><div class=\"sk-toggleable__content\"><pre>SimpleImputer()</pre></div></div></div></div></div></div><div class=\"sk-parallel-item\"><div class=\"sk-item\"><div class=\"sk-label-container\"><div class=\"sk-label sk-toggleable\"><input class=\"sk-toggleable__control sk-hidden--visually\" id=\"4cbb4873-eb00-4237-95df-5fb2a5009743\" type=\"checkbox\" ><label class=\"sk-toggleable__label\" for=\"4cbb4873-eb00-4237-95df-5fb2a5009743\">mode_encode_for_cate_cols</label><div class=\"sk-toggleable__content\"><pre>['continent']</pre></div></div></div><div class=\"sk-serial\"><div class=\"sk-item\"><div class=\"sk-serial\"><div class=\"sk-item\"><div class=\"sk-estimator sk-toggleable\"><input class=\"sk-toggleable__control sk-hidden--visually\" id=\"aeffd6c3-7b77-45aa-9ec7-55be84e25bf2\" type=\"checkbox\" ><label class=\"sk-toggleable__label\" for=\"aeffd6c3-7b77-45aa-9ec7-55be84e25bf2\">SimpleImputer</label><div class=\"sk-toggleable__content\"><pre>SimpleImputer(strategy='most_frequent')</pre></div></div></div><div class=\"sk-item\"><div class=\"sk-estimator sk-toggleable\"><input class=\"sk-toggleable__control sk-hidden--visually\" id=\"04c54565-0d5a-47bc-9eac-875e66892d94\" type=\"checkbox\" ><label class=\"sk-toggleable__label\" for=\"04c54565-0d5a-47bc-9eac-875e66892d94\">OneHotEncoder</label><div class=\"sk-toggleable__content\"><pre>OneHotEncoder(handle_unknown='ignore')</pre></div></div></div></div></div></div></div></div></div></div><div class=\"sk-item\"><div class=\"sk-estimator sk-toggleable\"><input class=\"sk-toggleable__control sk-hidden--visually\" id=\"7b72722e-f64f-4a6b-8a08-a8940028864b\" type=\"checkbox\" ><label class=\"sk-toggleable__label\" for=\"7b72722e-f64f-4a6b-8a08-a8940028864b\">StandardScaler</label><div class=\"sk-toggleable__content\"><pre>StandardScaler()</pre></div></div></div><div class=\"sk-item\"><div class=\"sk-estimator sk-toggleable\"><input class=\"sk-toggleable__control sk-hidden--visually\" id=\"63499373-1310-4ed0-bce5-f3510f6b42b8\" type=\"checkbox\" ><label class=\"sk-toggleable__label\" for=\"63499373-1310-4ed0-bce5-f3510f6b42b8\">MLPClassifier</label><div class=\"sk-toggleable__content\"><pre>MLPClassifier(activation='tanh', alpha=1, hidden_layer_sizes=5, max_iter=2500,\n",
       "              random_state=0, solver='lbfgs')</pre></div></div></div></div></div></div></div>"
      ],
      "text/plain": [
       "Pipeline(steps=[('coladderdropper', ColAdderDropper()),\n",
       "                ('columntransformer',\n",
       "                 ColumnTransformer(transformers=[('mean_for_nume_cols',\n",
       "                                                  SimpleImputer(),\n",
       "                                                  ['confirmed', 'recovered',\n",
       "                                                   'population', 'sq_km_area',\n",
       "                                                   'life_expectancy', 'iso',\n",
       "                                                   'elevation_in_meters']),\n",
       "                                                 ('mode_encode_for_cate_cols',\n",
       "                                                  Pipeline(steps=[('simpleimputer',\n",
       "                                                                   SimpleImputer(strategy='most_frequent')),\n",
       "                                                                  ('onehotencoder',\n",
       "                                                                   OneHotEncoder(handle_unknown='ignore'))]),\n",
       "                                                  ['continent'])])),\n",
       "                ('standardscaler', StandardScaler()),\n",
       "                ('mlpclassifier',\n",
       "                 MLPClassifier(activation='tanh', alpha=1, hidden_layer_sizes=5,\n",
       "                               max_iter=2500, random_state=0,\n",
       "                               solver='lbfgs'))])"
      ]
     },
     "execution_count": 28,
     "metadata": {},
     "output_type": "execute_result"
    }
   ],
   "source": [
    "full_pipeline.set_params(mlpclassifier__max_iter=iter_,mlpclassifier__alpha=best_alpha,\\\n",
    "                         mlpclassifier__hidden_layer_sizes=best_hidden_layer)\n",
    "full_pipeline.fit(X_df, y_sr)"
   ]
  },
  {
   "cell_type": "markdown",
   "metadata": {},
   "source": [
    "#### Kiểm tra cuối cùng của mô hình với tập test"
   ]
  },
  {
   "cell_type": "code",
   "execution_count": 29,
   "metadata": {},
   "outputs": [
    {
     "data": {
      "text/plain": [
       "0.8571428571428571"
      ]
     },
     "execution_count": 29,
     "metadata": {},
     "output_type": "execute_result"
    }
   ],
   "source": [
    "score_1 = full_pipeline.score(test_X,test_y)\n",
    "score_1"
   ]
  }
 ],
 "metadata": {
  "kernelspec": {
   "display_name": "Python 3",
   "language": "python",
   "name": "python3"
  },
  "language_info": {
   "codemirror_mode": {
    "name": "ipython",
    "version": 3
   },
   "file_extension": ".py",
   "mimetype": "text/x-python",
   "name": "python",
   "nbconvert_exporter": "python",
   "pygments_lexer": "ipython3",
   "version": "3.8.3"
  },
  "toc": {
   "base_numbering": "1",
   "nav_menu": {},
   "number_sections": true,
   "sideBar": true,
   "skip_h1_title": true,
   "title_cell": "Mục lục ",
   "title_sidebar": "Contents",
   "toc_cell": true,
   "toc_position": {
    "height": "calc(100% - 180px)",
    "left": "10px",
    "top": "150px",
    "width": "165px"
   },
   "toc_section_display": true,
   "toc_window_display": true
  }
 },
 "nbformat": 4,
 "nbformat_minor": 4
}
