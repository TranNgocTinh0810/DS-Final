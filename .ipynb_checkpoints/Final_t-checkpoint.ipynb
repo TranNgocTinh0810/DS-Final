{
 "cells": [
  {
   "cell_type": "markdown",
   "metadata": {},
   "source": [
    "# Đồ Án Cuối Kì Môn Khoa Học Dữ Liệu\n",
    "\n",
    "**Giới thiệu thành viên**\n",
    "\n",
    "- *Họ tên:* **Trần Ngọc Tịnh**       \n",
    "  *MSSV:* **18120597**\n",
    "  \n",
    "  \n",
    "  \n",
    "  \n",
    "- *Họ tên:* **Nguyễn Ngọc Năng Toàn**       \n",
    "  *MSSV:* **18120600**"
   ]
  },
  {
   "cell_type": "markdown",
   "metadata": {},
   "source": [
    "## Import "
   ]
  },
  {
   "cell_type": "code",
   "execution_count": 91,
   "metadata": {},
   "outputs": [],
   "source": [
    "%matplotlib inline\n",
    "import matplotlib.pyplot as plt\n",
    "import seaborn as sns # seaborn là thư viện được xây trên matplotlib, giúp việc visualization đỡ khổ hơn\n",
    "import pandas as pd\n",
    "import numpy as np\n",
    "\n",
    "from sklearn.model_selection import train_test_split\n",
    "from sklearn.preprocessing import OneHotEncoder, StandardScaler\n",
    "from sklearn.impute import SimpleImputer\n",
    "from sklearn.base import BaseEstimator, TransformerMixin\n",
    "from sklearn.pipeline import Pipeline, make_pipeline\n",
    "from sklearn.compose import ColumnTransformer, make_column_transformer\n",
    "from sklearn.neural_network import MLPClassifier\n",
    "from sklearn import set_config\n",
    "set_config(display='diagram') # Để trực quan hóa pipeline\n",
    "\n",
    "# You can also import other things ...\n",
    "# YOUR CODE HERE (OPTION)"
   ]
  },
  {
   "cell_type": "markdown",
   "metadata": {},
   "source": [
    "## Đọc dữ liệu từ file csv"
   ]
  },
  {
   "cell_type": "code",
   "execution_count": 92,
   "metadata": {},
   "outputs": [
    {
     "data": {
      "text/html": [
       "<div>\n",
       "<style scoped>\n",
       "    .dataframe tbody tr th:only-of-type {\n",
       "        vertical-align: middle;\n",
       "    }\n",
       "\n",
       "    .dataframe tbody tr th {\n",
       "        vertical-align: top;\n",
       "    }\n",
       "\n",
       "    .dataframe thead th {\n",
       "        text-align: right;\n",
       "    }\n",
       "</style>\n",
       "<table border=\"1\" class=\"dataframe\">\n",
       "  <thead>\n",
       "    <tr style=\"text-align: right;\">\n",
       "      <th></th>\n",
       "      <th>confirmed</th>\n",
       "      <th>recovered</th>\n",
       "      <th>deaths</th>\n",
       "      <th>population</th>\n",
       "      <th>sq_km_area</th>\n",
       "      <th>life_expectancy</th>\n",
       "      <th>elevation_in_meters</th>\n",
       "      <th>continent</th>\n",
       "      <th>abbreviation</th>\n",
       "      <th>location</th>\n",
       "      <th>iso</th>\n",
       "      <th>capital_city</th>\n",
       "      <th>lat</th>\n",
       "      <th>long</th>\n",
       "      <th>updated</th>\n",
       "    </tr>\n",
       "    <tr>\n",
       "      <th>Country</th>\n",
       "      <th></th>\n",
       "      <th></th>\n",
       "      <th></th>\n",
       "      <th></th>\n",
       "      <th></th>\n",
       "      <th></th>\n",
       "      <th></th>\n",
       "      <th></th>\n",
       "      <th></th>\n",
       "      <th></th>\n",
       "      <th></th>\n",
       "      <th></th>\n",
       "      <th></th>\n",
       "      <th></th>\n",
       "      <th></th>\n",
       "    </tr>\n",
       "  </thead>\n",
       "  <tbody>\n",
       "    <tr>\n",
       "      <th>Afghanistan</th>\n",
       "      <td>51526</td>\n",
       "      <td>41727</td>\n",
       "      <td>2191</td>\n",
       "      <td>35530081.0</td>\n",
       "      <td>652090.0</td>\n",
       "      <td>45.9</td>\n",
       "      <td>NaN</td>\n",
       "      <td>Asia</td>\n",
       "      <td>AF</td>\n",
       "      <td>Southern and Central Asia</td>\n",
       "      <td>4.0</td>\n",
       "      <td>Kabul</td>\n",
       "      <td>33.93911</td>\n",
       "      <td>67.709953</td>\n",
       "      <td>2021/01/01 14:22:58+00</td>\n",
       "    </tr>\n",
       "    <tr>\n",
       "      <th>Albania</th>\n",
       "      <td>58316</td>\n",
       "      <td>33634</td>\n",
       "      <td>1181</td>\n",
       "      <td>2930187.0</td>\n",
       "      <td>28748.0</td>\n",
       "      <td>71.6</td>\n",
       "      <td>NaN</td>\n",
       "      <td>Europe</td>\n",
       "      <td>AL</td>\n",
       "      <td>Southern Europe</td>\n",
       "      <td>8.0</td>\n",
       "      <td>Tirana</td>\n",
       "      <td>41.15330</td>\n",
       "      <td>20.168300</td>\n",
       "      <td>2021/01/01 14:22:58+00</td>\n",
       "    </tr>\n",
       "    <tr>\n",
       "      <th>Algeria</th>\n",
       "      <td>99610</td>\n",
       "      <td>67127</td>\n",
       "      <td>2756</td>\n",
       "      <td>41318142.0</td>\n",
       "      <td>2381741.0</td>\n",
       "      <td>69.7</td>\n",
       "      <td>800</td>\n",
       "      <td>Africa</td>\n",
       "      <td>DZ</td>\n",
       "      <td>Northern Africa</td>\n",
       "      <td>12.0</td>\n",
       "      <td>Alger</td>\n",
       "      <td>28.03390</td>\n",
       "      <td>1.659600</td>\n",
       "      <td>2021/01/01 14:22:58+00</td>\n",
       "    </tr>\n",
       "    <tr>\n",
       "      <th>Andorra</th>\n",
       "      <td>8049</td>\n",
       "      <td>7432</td>\n",
       "      <td>84</td>\n",
       "      <td>76965.0</td>\n",
       "      <td>468.0</td>\n",
       "      <td>83.5</td>\n",
       "      <td>1,996</td>\n",
       "      <td>Europe</td>\n",
       "      <td>AD</td>\n",
       "      <td>Southern Europe</td>\n",
       "      <td>20.0</td>\n",
       "      <td>Andorra la Vella</td>\n",
       "      <td>42.50630</td>\n",
       "      <td>1.521800</td>\n",
       "      <td>2021/01/01 14:22:58+00</td>\n",
       "    </tr>\n",
       "    <tr>\n",
       "      <th>Angola</th>\n",
       "      <td>17553</td>\n",
       "      <td>11044</td>\n",
       "      <td>405</td>\n",
       "      <td>29784193.0</td>\n",
       "      <td>1246700.0</td>\n",
       "      <td>38.3</td>\n",
       "      <td>1,112</td>\n",
       "      <td>Africa</td>\n",
       "      <td>AO</td>\n",
       "      <td>Central Africa</td>\n",
       "      <td>24.0</td>\n",
       "      <td>Luanda</td>\n",
       "      <td>-11.20270</td>\n",
       "      <td>17.873900</td>\n",
       "      <td>2021/01/01 14:22:58+00</td>\n",
       "    </tr>\n",
       "  </tbody>\n",
       "</table>\n",
       "</div>"
      ],
      "text/plain": [
       "             confirmed  recovered  deaths  population  sq_km_area  \\\n",
       "Country                                                             \n",
       "Afghanistan      51526      41727    2191  35530081.0    652090.0   \n",
       "Albania          58316      33634    1181   2930187.0     28748.0   \n",
       "Algeria          99610      67127    2756  41318142.0   2381741.0   \n",
       "Andorra           8049       7432      84     76965.0       468.0   \n",
       "Angola           17553      11044     405  29784193.0   1246700.0   \n",
       "\n",
       "             life_expectancy elevation_in_meters continent abbreviation  \\\n",
       "Country                                                                   \n",
       "Afghanistan             45.9                 NaN      Asia           AF   \n",
       "Albania                 71.6                 NaN    Europe           AL   \n",
       "Algeria                 69.7                 800    Africa           DZ   \n",
       "Andorra                 83.5               1,996    Europe           AD   \n",
       "Angola                  38.3               1,112    Africa           AO   \n",
       "\n",
       "                              location   iso      capital_city       lat  \\\n",
       "Country                                                                    \n",
       "Afghanistan  Southern and Central Asia   4.0             Kabul  33.93911   \n",
       "Albania                Southern Europe   8.0            Tirana  41.15330   \n",
       "Algeria                Northern Africa  12.0             Alger  28.03390   \n",
       "Andorra                Southern Europe  20.0  Andorra la Vella  42.50630   \n",
       "Angola                  Central Africa  24.0            Luanda -11.20270   \n",
       "\n",
       "                  long                 updated  \n",
       "Country                                         \n",
       "Afghanistan  67.709953  2021/01/01 14:22:58+00  \n",
       "Albania      20.168300  2021/01/01 14:22:58+00  \n",
       "Algeria       1.659600  2021/01/01 14:22:58+00  \n",
       "Andorra       1.521800  2021/01/01 14:22:58+00  \n",
       "Angola       17.873900  2021/01/01 14:22:58+00  "
      ]
     },
     "execution_count": 92,
     "metadata": {},
     "output_type": "execute_result"
    }
   ],
   "source": [
    "data_df = pd.read_csv('data.csv', \n",
    "                      index_col=0) # Cho cột index là cột 0 (PassengerId)\n",
    "data_df.head()"
   ]
  },
  {
   "cell_type": "markdown",
   "metadata": {},
   "source": [
    "## Khám phá dữ liệu "
   ]
  },
  {
   "cell_type": "code",
   "execution_count": 93,
   "metadata": {},
   "outputs": [
    {
     "data": {
      "text/plain": [
       "0"
      ]
     },
     "execution_count": 93,
     "metadata": {},
     "output_type": "execute_result"
    }
   ],
   "source": [
    "data_df.index.duplicated().sum()"
   ]
  },
  {
   "cell_type": "code",
   "execution_count": 94,
   "metadata": {},
   "outputs": [
    {
     "data": {
      "text/plain": [
       "dtype('int64')"
      ]
     },
     "execution_count": 94,
     "metadata": {},
     "output_type": "execute_result"
    }
   ],
   "source": [
    "data_df['deaths'].dtype"
   ]
  },
  {
   "cell_type": "code",
   "execution_count": 95,
   "metadata": {},
   "outputs": [
    {
     "data": {
      "text/plain": [
       "0"
      ]
     },
     "execution_count": 95,
     "metadata": {},
     "output_type": "execute_result"
    }
   ],
   "source": [
    "data_df['deaths'].isna().sum()"
   ]
  },
  {
   "cell_type": "code",
   "execution_count": 96,
   "metadata": {
    "scrolled": true
   },
   "outputs": [
    {
     "data": {
      "text/plain": [
       "0       7.558140\n",
       "63      1.744186\n",
       "104     1.162791\n",
       "7576    1.162791\n",
       "1468    1.162791\n",
       "          ...   \n",
       "1499    0.581395\n",
       "671     0.581395\n",
       "1181    0.581395\n",
       "410     0.581395\n",
       "119     0.581395\n",
       "Name: deaths, Length: 150, dtype: float64"
      ]
     },
     "execution_count": 96,
     "metadata": {},
     "output_type": "execute_result"
    }
   ],
   "source": [
    "data_df['deaths'].value_counts(normalize=True) * 100"
   ]
  },
  {
   "cell_type": "markdown",
   "metadata": {},
   "source": [
    "## Tách các tập"
   ]
  },
  {
   "cell_type": "code",
   "execution_count": 97,
   "metadata": {},
   "outputs": [],
   "source": [
    "y_sr = data_df[\"deaths\"] # sr là viết tắt của series\n",
    "X_df = data_df.drop(\"deaths\", axis=1)"
   ]
  },
  {
   "cell_type": "code",
   "execution_count": 98,
   "metadata": {
    "scrolled": true
   },
   "outputs": [],
   "source": [
    "train_X, test_X, train_y, test_y = train_test_split(X_df, y_sr, test_size=0.3, random_state=0)"
   ]
  },
  {
   "cell_type": "markdown",
   "metadata": {},
   "source": [
    "## Tiền xử lí ( tập huấn luyện )"
   ]
  },
  {
   "cell_type": "markdown",
   "metadata": {},
   "source": [
    "---\n",
    "\n",
    "### Tịnh"
   ]
  },
  {
   "cell_type": "markdown",
   "metadata": {},
   "source": [
    "#### Dữ liệu trước khi xử lí"
   ]
  },
  {
   "cell_type": "code",
   "execution_count": 66,
   "metadata": {},
   "outputs": [
    {
     "data": {
      "text/plain": [
       "(120, 14)"
      ]
     },
     "execution_count": 66,
     "metadata": {},
     "output_type": "execute_result"
    }
   ],
   "source": [
    "train_X.shape"
   ]
  },
  {
   "cell_type": "code",
   "execution_count": 67,
   "metadata": {},
   "outputs": [
    {
     "data": {
      "text/plain": [
       "(52, 14)"
      ]
     },
     "execution_count": 67,
     "metadata": {},
     "output_type": "execute_result"
    }
   ],
   "source": [
    "test_X.shape"
   ]
  },
  {
   "cell_type": "markdown",
   "metadata": {},
   "source": [
    "#### Class Tiền xử lí"
   ]
  },
  {
   "cell_type": "code",
   "execution_count": 68,
   "metadata": {},
   "outputs": [],
   "source": [
    "class ColAdderDropper(BaseEstimator, TransformerMixin):\n",
    "    def fit(self, X_df, y=None):\n",
    "        return self\n",
    "    def transform(self, X_df, y=None):\n",
    "        df = X_df.copy()\n",
    "        unused_cols = ['abbreviation', 'capital_city', 'updated','location']\n",
    "        df=df.drop(unused_cols,axis=1)\n",
    "        df=df.astype({'confirmed':'float64','recovered':'float64'})\n",
    "        df['elevation_in_meters'] = pd.to_numeric(df['elevation_in_meters'],errors='coerce')\n",
    "        return df"
   ]
  },
  {
   "cell_type": "markdown",
   "metadata": {},
   "source": [
    "#### Fit & Transform"
   ]
  },
  {
   "cell_type": "code",
   "execution_count": 77,
   "metadata": {
    "scrolled": true
   },
   "outputs": [
    {
     "data": {
      "text/html": [
       "<div>\n",
       "<style scoped>\n",
       "    .dataframe tbody tr th:only-of-type {\n",
       "        vertical-align: middle;\n",
       "    }\n",
       "\n",
       "    .dataframe tbody tr th {\n",
       "        vertical-align: top;\n",
       "    }\n",
       "\n",
       "    .dataframe thead th {\n",
       "        text-align: right;\n",
       "    }\n",
       "</style>\n",
       "<table border=\"1\" class=\"dataframe\">\n",
       "  <thead>\n",
       "    <tr style=\"text-align: right;\">\n",
       "      <th></th>\n",
       "      <th>confirmed</th>\n",
       "      <th>recovered</th>\n",
       "      <th>population</th>\n",
       "      <th>sq_km_area</th>\n",
       "      <th>life_expectancy</th>\n",
       "      <th>elevation_in_meters</th>\n",
       "      <th>continent</th>\n",
       "      <th>iso</th>\n",
       "      <th>lat</th>\n",
       "      <th>long</th>\n",
       "    </tr>\n",
       "    <tr>\n",
       "      <th>Country</th>\n",
       "      <th></th>\n",
       "      <th></th>\n",
       "      <th></th>\n",
       "      <th></th>\n",
       "      <th></th>\n",
       "      <th></th>\n",
       "      <th></th>\n",
       "      <th></th>\n",
       "      <th></th>\n",
       "      <th></th>\n",
       "    </tr>\n",
       "  </thead>\n",
       "  <tbody>\n",
       "    <tr>\n",
       "      <th>Cyprus</th>\n",
       "      <td>22019.0</td>\n",
       "      <td>2057.0</td>\n",
       "      <td>1179551.0</td>\n",
       "      <td>9251.0</td>\n",
       "      <td>76.7</td>\n",
       "      <td>91.0</td>\n",
       "      <td>Asia</td>\n",
       "      <td>196.0</td>\n",
       "      <td>35.126400</td>\n",
       "      <td>33.429900</td>\n",
       "    </tr>\n",
       "    <tr>\n",
       "      <th>Tanzania</th>\n",
       "      <td>509.0</td>\n",
       "      <td>183.0</td>\n",
       "      <td>57310019.0</td>\n",
       "      <td>883749.0</td>\n",
       "      <td>52.3</td>\n",
       "      <td>NaN</td>\n",
       "      <td>Africa</td>\n",
       "      <td>834.0</td>\n",
       "      <td>-6.369028</td>\n",
       "      <td>34.888822</td>\n",
       "    </tr>\n",
       "    <tr>\n",
       "      <th>Botswana</th>\n",
       "      <td>14805.0</td>\n",
       "      <td>12136.0</td>\n",
       "      <td>2291661.0</td>\n",
       "      <td>581730.0</td>\n",
       "      <td>39.3</td>\n",
       "      <td>NaN</td>\n",
       "      <td>Africa</td>\n",
       "      <td>72.0</td>\n",
       "      <td>-22.328500</td>\n",
       "      <td>24.684900</td>\n",
       "    </tr>\n",
       "    <tr>\n",
       "      <th>Morocco</th>\n",
       "      <td>439193.0</td>\n",
       "      <td>407504.0</td>\n",
       "      <td>35739580.0</td>\n",
       "      <td>446550.0</td>\n",
       "      <td>69.1</td>\n",
       "      <td>909.0</td>\n",
       "      <td>Africa</td>\n",
       "      <td>504.0</td>\n",
       "      <td>31.791700</td>\n",
       "      <td>-7.092600</td>\n",
       "    </tr>\n",
       "    <tr>\n",
       "      <th>Togo</th>\n",
       "      <td>3633.0</td>\n",
       "      <td>3393.0</td>\n",
       "      <td>7797694.0</td>\n",
       "      <td>56785.0</td>\n",
       "      <td>54.7</td>\n",
       "      <td>236.0</td>\n",
       "      <td>Africa</td>\n",
       "      <td>768.0</td>\n",
       "      <td>8.619500</td>\n",
       "      <td>0.824800</td>\n",
       "    </tr>\n",
       "  </tbody>\n",
       "</table>\n",
       "</div>"
      ],
      "text/plain": [
       "          confirmed  recovered  population  sq_km_area  life_expectancy  \\\n",
       "Country                                                                   \n",
       "Cyprus      22019.0     2057.0   1179551.0      9251.0             76.7   \n",
       "Tanzania      509.0      183.0  57310019.0    883749.0             52.3   \n",
       "Botswana    14805.0    12136.0   2291661.0    581730.0             39.3   \n",
       "Morocco    439193.0   407504.0  35739580.0    446550.0             69.1   \n",
       "Togo         3633.0     3393.0   7797694.0     56785.0             54.7   \n",
       "\n",
       "          elevation_in_meters continent    iso        lat       long  \n",
       "Country                                                               \n",
       "Cyprus                   91.0      Asia  196.0  35.126400  33.429900  \n",
       "Tanzania                  NaN    Africa  834.0  -6.369028  34.888822  \n",
       "Botswana                  NaN    Africa   72.0 -22.328500  24.684900  \n",
       "Morocco                 909.0    Africa  504.0  31.791700  -7.092600  \n",
       "Togo                    236.0    Africa  768.0   8.619500   0.824800  "
      ]
     },
     "execution_count": 77,
     "metadata": {},
     "output_type": "execute_result"
    }
   ],
   "source": [
    "col_adderdropper = ColAdderDropper()\n",
    "col_adderdropper.fit(train_X)\n",
    "col_adderdropper.transform(train_X).head()\n",
    "\n"
   ]
  },
  {
   "cell_type": "markdown",
   "metadata": {},
   "source": [
    "#### Kiểu dữ liệu sau xử lí"
   ]
  },
  {
   "cell_type": "code",
   "execution_count": 78,
   "metadata": {
    "scrolled": false
   },
   "outputs": [
    {
     "data": {
      "text/plain": [
       "confirmed              float64\n",
       "recovered              float64\n",
       "population             float64\n",
       "sq_km_area             float64\n",
       "life_expectancy        float64\n",
       "elevation_in_meters    float64\n",
       "continent               object\n",
       "iso                    float64\n",
       "lat                    float64\n",
       "long                   float64\n",
       "dtype: object"
      ]
     },
     "execution_count": 78,
     "metadata": {},
     "output_type": "execute_result"
    }
   ],
   "source": [
    "col_adderdropper.transform(train_X).dtypes"
   ]
  },
  {
   "cell_type": "code",
   "execution_count": 79,
   "metadata": {},
   "outputs": [
    {
     "data": {
      "text/plain": [
       "(120, 10)"
      ]
     },
     "execution_count": 79,
     "metadata": {},
     "output_type": "execute_result"
    }
   ],
   "source": [
    "col_adderdropper.transform(train_X).shape"
   ]
  },
  {
   "cell_type": "markdown",
   "metadata": {},
   "source": [
    "#### Giá trị NAN"
   ]
  },
  {
   "cell_type": "code",
   "execution_count": 80,
   "metadata": {},
   "outputs": [
    {
     "data": {
      "text/plain": [
       "confirmed               0\n",
       "recovered               0\n",
       "population              2\n",
       "sq_km_area              2\n",
       "life_expectancy         3\n",
       "elevation_in_meters    40\n",
       "continent               2\n",
       "iso                     3\n",
       "lat                    11\n",
       "long                   11\n",
       "dtype: int64"
      ]
     },
     "execution_count": 80,
     "metadata": {},
     "output_type": "execute_result"
    }
   ],
   "source": [
    "col_adderdropper.transform(train_X).isna().sum()"
   ]
  },
  {
   "cell_type": "markdown",
   "metadata": {},
   "source": [
    "#### Đảm bảo tập train_X không bị thay đổi "
   ]
  },
  {
   "cell_type": "code",
   "execution_count": 81,
   "metadata": {
    "scrolled": true
   },
   "outputs": [
    {
     "data": {
      "text/plain": [
       "(120, 14)"
      ]
     },
     "execution_count": 81,
     "metadata": {},
     "output_type": "execute_result"
    }
   ],
   "source": [
    "train_X.shape"
   ]
  },
  {
   "cell_type": "markdown",
   "metadata": {},
   "source": [
    "### Điền giá trị thiếu"
   ]
  },
  {
   "cell_type": "code",
   "execution_count": 109,
   "metadata": {},
   "outputs": [
    {
     "data": {
      "text/html": [
       "<style>div.sk-top-container {color: black;background-color: white;}div.sk-toggleable {background-color: white;}label.sk-toggleable__label {cursor: pointer;display: block;width: 100%;margin-bottom: 0;padding: 0.2em 0.3em;box-sizing: border-box;text-align: center;}div.sk-toggleable__content {max-height: 0;max-width: 0;overflow: hidden;text-align: left;background-color: #f0f8ff;}div.sk-toggleable__content pre {margin: 0.2em;color: black;border-radius: 0.25em;background-color: #f0f8ff;}input.sk-toggleable__control:checked~div.sk-toggleable__content {max-height: 200px;max-width: 100%;overflow: auto;}div.sk-estimator input.sk-toggleable__control:checked~label.sk-toggleable__label {background-color: #d4ebff;}div.sk-label input.sk-toggleable__control:checked~label.sk-toggleable__label {background-color: #d4ebff;}input.sk-hidden--visually {border: 0;clip: rect(1px 1px 1px 1px);clip: rect(1px, 1px, 1px, 1px);height: 1px;margin: -1px;overflow: hidden;padding: 0;position: absolute;width: 1px;}div.sk-estimator {font-family: monospace;background-color: #f0f8ff;margin: 0.25em 0.25em;border: 1px dotted black;border-radius: 0.25em;box-sizing: border-box;}div.sk-estimator:hover {background-color: #d4ebff;}div.sk-parallel-item::after {content: \"\";width: 100%;border-bottom: 1px solid gray;flex-grow: 1;}div.sk-label:hover label.sk-toggleable__label {background-color: #d4ebff;}div.sk-serial::before {content: \"\";position: absolute;border-left: 1px solid gray;box-sizing: border-box;top: 2em;bottom: 0;left: 50%;}div.sk-serial {display: flex;flex-direction: column;align-items: center;background-color: white;}div.sk-item {z-index: 1;}div.sk-parallel {display: flex;align-items: stretch;justify-content: center;background-color: white;}div.sk-parallel-item {display: flex;flex-direction: column;position: relative;background-color: white;}div.sk-parallel-item:first-child::after {align-self: flex-end;width: 50%;}div.sk-parallel-item:last-child::after {align-self: flex-start;width: 50%;}div.sk-parallel-item:only-child::after {width: 0;}div.sk-dashed-wrapped {border: 1px dashed gray;margin: 0.2em;box-sizing: border-box;padding-bottom: 0.1em;background-color: white;position: relative;}div.sk-label label {font-family: monospace;font-weight: bold;background-color: white;display: inline-block;line-height: 1.2em;}div.sk-label-container {position: relative;z-index: 2;text-align: center;}div.sk-container {display: inline-block;position: relative;}</style><div class=\"sk-top-container\"><div class=\"sk-container\"><div class=\"sk-item sk-dashed-wrapped\"><div class=\"sk-label-container\"><div class=\"sk-label sk-toggleable\"><input class=\"sk-toggleable__control sk-hidden--visually\" id=\"2bc65571-69a5-449f-a801-54468aa52b1b\" type=\"checkbox\" ><label class=\"sk-toggleable__label\" for=\"2bc65571-69a5-449f-a801-54468aa52b1b\">Pipeline</label><div class=\"sk-toggleable__content\"><pre>Pipeline(steps=[('coladderdropper', ColAdderDropper()),\n",
       "                ('columntransformer',\n",
       "                 ColumnTransformer(transformers=[('mean_for_nume_cols',\n",
       "                                                  SimpleImputer(),\n",
       "                                                  ['confirmed', 'recovered',\n",
       "                                                   'population', 'sq_km_area',\n",
       "                                                   'life_expectancy', 'iso',\n",
       "                                                   'lat', 'long',\n",
       "                                                   'elevation_in_meters']),\n",
       "                                                 ('mode_encode_for_cate_cols',\n",
       "                                                  Pipeline(steps=[('simpleimputer',\n",
       "                                                                   SimpleImputer(strategy='most_frequent')),\n",
       "                                                                  ('onehotencoder',\n",
       "                                                                   OneHotEncoder(handle_unknown='ignore'))]),\n",
       "                                                  ['continent'])])),\n",
       "                ('standardscaler', StandardScaler())])</pre></div></div></div><div class=\"sk-serial\"><div class=\"sk-item\"><div class=\"sk-estimator sk-toggleable\"><input class=\"sk-toggleable__control sk-hidden--visually\" id=\"a6c4f460-e20b-44b5-b79a-47c07d94e062\" type=\"checkbox\" ><label class=\"sk-toggleable__label\" for=\"a6c4f460-e20b-44b5-b79a-47c07d94e062\">ColAdderDropper</label><div class=\"sk-toggleable__content\"><pre>ColAdderDropper()</pre></div></div></div><div class=\"sk-item sk-dashed-wrapped\"><div class=\"sk-label-container\"><div class=\"sk-label sk-toggleable\"><input class=\"sk-toggleable__control sk-hidden--visually\" id=\"cae6251a-2e98-444a-a0ed-917907ca9844\" type=\"checkbox\" ><label class=\"sk-toggleable__label\" for=\"cae6251a-2e98-444a-a0ed-917907ca9844\">columntransformer: ColumnTransformer</label><div class=\"sk-toggleable__content\"><pre>ColumnTransformer(transformers=[('mean_for_nume_cols', SimpleImputer(),\n",
       "                                 ['confirmed', 'recovered', 'population',\n",
       "                                  'sq_km_area', 'life_expectancy', 'iso', 'lat',\n",
       "                                  'long', 'elevation_in_meters']),\n",
       "                                ('mode_encode_for_cate_cols',\n",
       "                                 Pipeline(steps=[('simpleimputer',\n",
       "                                                  SimpleImputer(strategy='most_frequent')),\n",
       "                                                 ('onehotencoder',\n",
       "                                                  OneHotEncoder(handle_unknown='ignore'))]),\n",
       "                                 ['continent'])])</pre></div></div></div><div class=\"sk-parallel\"><div class=\"sk-parallel-item\"><div class=\"sk-item\"><div class=\"sk-label-container\"><div class=\"sk-label sk-toggleable\"><input class=\"sk-toggleable__control sk-hidden--visually\" id=\"5f5a1359-7bf9-4c09-a2cc-9007b255b48d\" type=\"checkbox\" ><label class=\"sk-toggleable__label\" for=\"5f5a1359-7bf9-4c09-a2cc-9007b255b48d\">mean_for_nume_cols</label><div class=\"sk-toggleable__content\"><pre>['confirmed', 'recovered', 'population', 'sq_km_area', 'life_expectancy', 'iso', 'lat', 'long', 'elevation_in_meters']</pre></div></div></div><div class=\"sk-serial\"><div class=\"sk-item\"><div class=\"sk-estimator sk-toggleable\"><input class=\"sk-toggleable__control sk-hidden--visually\" id=\"be5b6158-8c1a-4f54-8490-03283d303aac\" type=\"checkbox\" ><label class=\"sk-toggleable__label\" for=\"be5b6158-8c1a-4f54-8490-03283d303aac\">SimpleImputer</label><div class=\"sk-toggleable__content\"><pre>SimpleImputer()</pre></div></div></div></div></div></div><div class=\"sk-parallel-item\"><div class=\"sk-item\"><div class=\"sk-label-container\"><div class=\"sk-label sk-toggleable\"><input class=\"sk-toggleable__control sk-hidden--visually\" id=\"f7df6d5c-ecd9-47aa-bf88-84eb882e49c9\" type=\"checkbox\" ><label class=\"sk-toggleable__label\" for=\"f7df6d5c-ecd9-47aa-bf88-84eb882e49c9\">mode_encode_for_cate_cols</label><div class=\"sk-toggleable__content\"><pre>['continent']</pre></div></div></div><div class=\"sk-serial\"><div class=\"sk-item\"><div class=\"sk-serial\"><div class=\"sk-item\"><div class=\"sk-estimator sk-toggleable\"><input class=\"sk-toggleable__control sk-hidden--visually\" id=\"486afd7c-c701-4f59-b0d5-6c00298fd94c\" type=\"checkbox\" ><label class=\"sk-toggleable__label\" for=\"486afd7c-c701-4f59-b0d5-6c00298fd94c\">SimpleImputer</label><div class=\"sk-toggleable__content\"><pre>SimpleImputer(strategy='most_frequent')</pre></div></div></div><div class=\"sk-item\"><div class=\"sk-estimator sk-toggleable\"><input class=\"sk-toggleable__control sk-hidden--visually\" id=\"f1925346-60d3-4562-8660-da4443fc74f2\" type=\"checkbox\" ><label class=\"sk-toggleable__label\" for=\"f1925346-60d3-4562-8660-da4443fc74f2\">OneHotEncoder</label><div class=\"sk-toggleable__content\"><pre>OneHotEncoder(handle_unknown='ignore')</pre></div></div></div></div></div></div></div></div></div></div><div class=\"sk-item\"><div class=\"sk-estimator sk-toggleable\"><input class=\"sk-toggleable__control sk-hidden--visually\" id=\"086f5083-1303-4568-9dc3-b8ba062d4768\" type=\"checkbox\" ><label class=\"sk-toggleable__label\" for=\"086f5083-1303-4568-9dc3-b8ba062d4768\">StandardScaler</label><div class=\"sk-toggleable__content\"><pre>StandardScaler()</pre></div></div></div></div></div></div></div>"
      ],
      "text/plain": [
       "Pipeline(steps=[('coladderdropper', ColAdderDropper()),\n",
       "                ('columntransformer',\n",
       "                 ColumnTransformer(transformers=[('mean_for_nume_cols',\n",
       "                                                  SimpleImputer(),\n",
       "                                                  ['confirmed', 'recovered',\n",
       "                                                   'population', 'sq_km_area',\n",
       "                                                   'life_expectancy', 'iso',\n",
       "                                                   'lat', 'long',\n",
       "                                                   'elevation_in_meters']),\n",
       "                                                 ('mode_encode_for_cate_cols',\n",
       "                                                  Pipeline(steps=[('simpleimputer',\n",
       "                                                                   SimpleImputer(strategy='most_frequent')),\n",
       "                                                                  ('onehotencoder',\n",
       "                                                                   OneHotEncoder(handle_unknown='ignore'))]),\n",
       "                                                  ['continent'])])),\n",
       "                ('standardscaler', StandardScaler())])"
      ]
     },
     "execution_count": 109,
     "metadata": {},
     "output_type": "execute_result"
    }
   ],
   "source": [
    "nume_cols=['confirmed','recovered','population','sq_km_area','life_expectancy','iso','lat','long','elevation_in_meters']\n",
    "cate_cols=['continent']\n",
    "\n",
    "mean = SimpleImputer(strategy='mean')\n",
    "mode = SimpleImputer(strategy='most_frequent') \n",
    "mode_encode = make_pipeline(mode,OneHotEncoder(handle_unknown='ignore'))\n",
    "\n",
    "colTransform = ColumnTransformer([('mean_for_nume_cols',mean, nume_cols),\\\n",
    "                                 ('mode_encode_for_cate_cols',mode_encode,cate_cols)])\n",
    "colNormalize = StandardScaler()\n",
    "preprocess_pipeline = make_pipeline(col_adderdropper,colTransform,colNormalize)\n",
    "\n",
    "preprocessed_train_X=preprocess_pipeline.fit_transform(train_X)\n",
    "\n",
    "preprocess_pipeline"
   ]
  },
  {
   "cell_type": "markdown",
   "metadata": {},
   "source": [
    "---\n",
    "\n",
    "### Toàn"
   ]
  },
  {
   "cell_type": "code",
   "execution_count": 99,
   "metadata": {},
   "outputs": [
    {
     "data": {
      "text/html": [
       "<div>\n",
       "<style scoped>\n",
       "    .dataframe tbody tr th:only-of-type {\n",
       "        vertical-align: middle;\n",
       "    }\n",
       "\n",
       "    .dataframe tbody tr th {\n",
       "        vertical-align: top;\n",
       "    }\n",
       "\n",
       "    .dataframe thead th {\n",
       "        text-align: right;\n",
       "    }\n",
       "</style>\n",
       "<table border=\"1\" class=\"dataframe\">\n",
       "  <thead>\n",
       "    <tr style=\"text-align: right;\">\n",
       "      <th></th>\n",
       "      <th>confirmed</th>\n",
       "      <th>recovered</th>\n",
       "      <th>population</th>\n",
       "      <th>sq_km_area</th>\n",
       "      <th>life_expectancy</th>\n",
       "      <th>elevation_in_meters</th>\n",
       "      <th>continent</th>\n",
       "      <th>iso</th>\n",
       "      <th>lat</th>\n",
       "      <th>long</th>\n",
       "    </tr>\n",
       "    <tr>\n",
       "      <th>Country</th>\n",
       "      <th></th>\n",
       "      <th></th>\n",
       "      <th></th>\n",
       "      <th></th>\n",
       "      <th></th>\n",
       "      <th></th>\n",
       "      <th></th>\n",
       "      <th></th>\n",
       "      <th></th>\n",
       "      <th></th>\n",
       "    </tr>\n",
       "  </thead>\n",
       "  <tbody>\n",
       "    <tr>\n",
       "      <th>Cyprus</th>\n",
       "      <td>22019.0</td>\n",
       "      <td>2057.0</td>\n",
       "      <td>1179551.0</td>\n",
       "      <td>9251.0</td>\n",
       "      <td>76.7</td>\n",
       "      <td>91.0</td>\n",
       "      <td>Asia</td>\n",
       "      <td>196.0</td>\n",
       "      <td>35.126400</td>\n",
       "      <td>33.429900</td>\n",
       "    </tr>\n",
       "    <tr>\n",
       "      <th>Tanzania</th>\n",
       "      <td>509.0</td>\n",
       "      <td>183.0</td>\n",
       "      <td>57310019.0</td>\n",
       "      <td>883749.0</td>\n",
       "      <td>52.3</td>\n",
       "      <td>NaN</td>\n",
       "      <td>Africa</td>\n",
       "      <td>834.0</td>\n",
       "      <td>-6.369028</td>\n",
       "      <td>34.888822</td>\n",
       "    </tr>\n",
       "    <tr>\n",
       "      <th>Botswana</th>\n",
       "      <td>14805.0</td>\n",
       "      <td>12136.0</td>\n",
       "      <td>2291661.0</td>\n",
       "      <td>581730.0</td>\n",
       "      <td>39.3</td>\n",
       "      <td>NaN</td>\n",
       "      <td>Africa</td>\n",
       "      <td>72.0</td>\n",
       "      <td>-22.328500</td>\n",
       "      <td>24.684900</td>\n",
       "    </tr>\n",
       "    <tr>\n",
       "      <th>Morocco</th>\n",
       "      <td>439193.0</td>\n",
       "      <td>407504.0</td>\n",
       "      <td>35739580.0</td>\n",
       "      <td>446550.0</td>\n",
       "      <td>69.1</td>\n",
       "      <td>909.0</td>\n",
       "      <td>Africa</td>\n",
       "      <td>504.0</td>\n",
       "      <td>31.791700</td>\n",
       "      <td>-7.092600</td>\n",
       "    </tr>\n",
       "    <tr>\n",
       "      <th>Togo</th>\n",
       "      <td>3633.0</td>\n",
       "      <td>3393.0</td>\n",
       "      <td>7797694.0</td>\n",
       "      <td>56785.0</td>\n",
       "      <td>54.7</td>\n",
       "      <td>236.0</td>\n",
       "      <td>Africa</td>\n",
       "      <td>768.0</td>\n",
       "      <td>8.619500</td>\n",
       "      <td>0.824800</td>\n",
       "    </tr>\n",
       "  </tbody>\n",
       "</table>\n",
       "</div>"
      ],
      "text/plain": [
       "          confirmed  recovered  population  sq_km_area  life_expectancy  \\\n",
       "Country                                                                   \n",
       "Cyprus      22019.0     2057.0   1179551.0      9251.0             76.7   \n",
       "Tanzania      509.0      183.0  57310019.0    883749.0             52.3   \n",
       "Botswana    14805.0    12136.0   2291661.0    581730.0             39.3   \n",
       "Morocco    439193.0   407504.0  35739580.0    446550.0             69.1   \n",
       "Togo         3633.0     3393.0   7797694.0     56785.0             54.7   \n",
       "\n",
       "          elevation_in_meters continent    iso        lat       long  \n",
       "Country                                                               \n",
       "Cyprus                   91.0      Asia  196.0  35.126400  33.429900  \n",
       "Tanzania                  NaN    Africa  834.0  -6.369028  34.888822  \n",
       "Botswana                  NaN    Africa   72.0 -22.328500  24.684900  \n",
       "Morocco                 909.0    Africa  504.0  31.791700  -7.092600  \n",
       "Togo                    236.0    Africa  768.0   8.619500   0.824800  "
      ]
     },
     "execution_count": 99,
     "metadata": {},
     "output_type": "execute_result"
    }
   ],
   "source": [
    "unused_cols = ['abbreviation', 'capital_city', 'updated','location']\n",
    "X_temp=train_X.drop(unused_cols,axis=1)\n",
    "X_temp=X_temp.astype({'confirmed':'float64','recovered':'float64'})\n",
    "X_temp['elevation_in_meters'] = pd.to_numeric(X_temp['elevation_in_meters'],errors='coerce')\n",
    "X_temp.head()"
   ]
  },
  {
   "cell_type": "code",
   "execution_count": 100,
   "metadata": {
    "scrolled": false
   },
   "outputs": [
    {
     "data": {
      "text/plain": [
       "confirmed              float64\n",
       "recovered              float64\n",
       "population             float64\n",
       "sq_km_area             float64\n",
       "life_expectancy        float64\n",
       "elevation_in_meters    float64\n",
       "continent               object\n",
       "iso                    float64\n",
       "lat                    float64\n",
       "long                   float64\n",
       "dtype: object"
      ]
     },
     "execution_count": 100,
     "metadata": {},
     "output_type": "execute_result"
    }
   ],
   "source": [
    "X_temp.dtypes"
   ]
  },
  {
   "cell_type": "markdown",
   "metadata": {},
   "source": [
    "#### Điền giá trị thiếu "
   ]
  },
  {
   "cell_type": "code",
   "execution_count": 101,
   "metadata": {},
   "outputs": [
    {
     "data": {
      "text/html": [
       "<style>div.sk-top-container {color: black;background-color: white;}div.sk-toggleable {background-color: white;}label.sk-toggleable__label {cursor: pointer;display: block;width: 100%;margin-bottom: 0;padding: 0.2em 0.3em;box-sizing: border-box;text-align: center;}div.sk-toggleable__content {max-height: 0;max-width: 0;overflow: hidden;text-align: left;background-color: #f0f8ff;}div.sk-toggleable__content pre {margin: 0.2em;color: black;border-radius: 0.25em;background-color: #f0f8ff;}input.sk-toggleable__control:checked~div.sk-toggleable__content {max-height: 200px;max-width: 100%;overflow: auto;}div.sk-estimator input.sk-toggleable__control:checked~label.sk-toggleable__label {background-color: #d4ebff;}div.sk-label input.sk-toggleable__control:checked~label.sk-toggleable__label {background-color: #d4ebff;}input.sk-hidden--visually {border: 0;clip: rect(1px 1px 1px 1px);clip: rect(1px, 1px, 1px, 1px);height: 1px;margin: -1px;overflow: hidden;padding: 0;position: absolute;width: 1px;}div.sk-estimator {font-family: monospace;background-color: #f0f8ff;margin: 0.25em 0.25em;border: 1px dotted black;border-radius: 0.25em;box-sizing: border-box;}div.sk-estimator:hover {background-color: #d4ebff;}div.sk-parallel-item::after {content: \"\";width: 100%;border-bottom: 1px solid gray;flex-grow: 1;}div.sk-label:hover label.sk-toggleable__label {background-color: #d4ebff;}div.sk-serial::before {content: \"\";position: absolute;border-left: 1px solid gray;box-sizing: border-box;top: 2em;bottom: 0;left: 50%;}div.sk-serial {display: flex;flex-direction: column;align-items: center;background-color: white;}div.sk-item {z-index: 1;}div.sk-parallel {display: flex;align-items: stretch;justify-content: center;background-color: white;}div.sk-parallel-item {display: flex;flex-direction: column;position: relative;background-color: white;}div.sk-parallel-item:first-child::after {align-self: flex-end;width: 50%;}div.sk-parallel-item:last-child::after {align-self: flex-start;width: 50%;}div.sk-parallel-item:only-child::after {width: 0;}div.sk-dashed-wrapped {border: 1px dashed gray;margin: 0.2em;box-sizing: border-box;padding-bottom: 0.1em;background-color: white;position: relative;}div.sk-label label {font-family: monospace;font-weight: bold;background-color: white;display: inline-block;line-height: 1.2em;}div.sk-label-container {position: relative;z-index: 2;text-align: center;}div.sk-container {display: inline-block;position: relative;}</style><div class=\"sk-top-container\"><div class=\"sk-container\"><div class=\"sk-item sk-dashed-wrapped\"><div class=\"sk-label-container\"><div class=\"sk-label sk-toggleable\"><input class=\"sk-toggleable__control sk-hidden--visually\" id=\"76e08927-e87e-40f3-8c74-cd9ae594775a\" type=\"checkbox\" ><label class=\"sk-toggleable__label\" for=\"76e08927-e87e-40f3-8c74-cd9ae594775a\">Pipeline</label><div class=\"sk-toggleable__content\"><pre>Pipeline(steps=[('columntransformer',\n",
       "                 ColumnTransformer(transformers=[('simpleimputer',\n",
       "                                                  SimpleImputer(),\n",
       "                                                  ['confirmed', 'recovered',\n",
       "                                                   'population', 'sq_km_area',\n",
       "                                                   'life_expectancy', 'iso',\n",
       "                                                   'lat', 'long',\n",
       "                                                   'elevation_in_meters']),\n",
       "                                                 ('pipeline',\n",
       "                                                  Pipeline(steps=[('simpleimputer',\n",
       "                                                                   SimpleImputer(strategy='most_frequent')),\n",
       "                                                                  ('onehotencoder',\n",
       "                                                                   OneHotEncoder(handle_unknown='ignore'))]),\n",
       "                                                  ['continent'])])),\n",
       "                ('standardscaler', StandardScaler())])</pre></div></div></div><div class=\"sk-serial\"><div class=\"sk-item sk-dashed-wrapped\"><div class=\"sk-label-container\"><div class=\"sk-label sk-toggleable\"><input class=\"sk-toggleable__control sk-hidden--visually\" id=\"ad1a623d-7521-4e09-880a-411da9efa573\" type=\"checkbox\" ><label class=\"sk-toggleable__label\" for=\"ad1a623d-7521-4e09-880a-411da9efa573\">columntransformer: ColumnTransformer</label><div class=\"sk-toggleable__content\"><pre>ColumnTransformer(transformers=[('simpleimputer', SimpleImputer(),\n",
       "                                 ['confirmed', 'recovered', 'population',\n",
       "                                  'sq_km_area', 'life_expectancy', 'iso', 'lat',\n",
       "                                  'long', 'elevation_in_meters']),\n",
       "                                ('pipeline',\n",
       "                                 Pipeline(steps=[('simpleimputer',\n",
       "                                                  SimpleImputer(strategy='most_frequent')),\n",
       "                                                 ('onehotencoder',\n",
       "                                                  OneHotEncoder(handle_unknown='ignore'))]),\n",
       "                                 ['continent'])])</pre></div></div></div><div class=\"sk-parallel\"><div class=\"sk-parallel-item\"><div class=\"sk-item\"><div class=\"sk-label-container\"><div class=\"sk-label sk-toggleable\"><input class=\"sk-toggleable__control sk-hidden--visually\" id=\"86b4c132-0000-4b57-a093-55abac489c60\" type=\"checkbox\" ><label class=\"sk-toggleable__label\" for=\"86b4c132-0000-4b57-a093-55abac489c60\">simpleimputer</label><div class=\"sk-toggleable__content\"><pre>['confirmed', 'recovered', 'population', 'sq_km_area', 'life_expectancy', 'iso', 'lat', 'long', 'elevation_in_meters']</pre></div></div></div><div class=\"sk-serial\"><div class=\"sk-item\"><div class=\"sk-estimator sk-toggleable\"><input class=\"sk-toggleable__control sk-hidden--visually\" id=\"8aef716d-473d-4aee-9a42-82ae56ba0ede\" type=\"checkbox\" ><label class=\"sk-toggleable__label\" for=\"8aef716d-473d-4aee-9a42-82ae56ba0ede\">SimpleImputer</label><div class=\"sk-toggleable__content\"><pre>SimpleImputer()</pre></div></div></div></div></div></div><div class=\"sk-parallel-item\"><div class=\"sk-item\"><div class=\"sk-label-container\"><div class=\"sk-label sk-toggleable\"><input class=\"sk-toggleable__control sk-hidden--visually\" id=\"1d002f28-0805-4ac5-9f9c-60f74367ac7b\" type=\"checkbox\" ><label class=\"sk-toggleable__label\" for=\"1d002f28-0805-4ac5-9f9c-60f74367ac7b\">pipeline</label><div class=\"sk-toggleable__content\"><pre>['continent']</pre></div></div></div><div class=\"sk-serial\"><div class=\"sk-item\"><div class=\"sk-serial\"><div class=\"sk-item\"><div class=\"sk-estimator sk-toggleable\"><input class=\"sk-toggleable__control sk-hidden--visually\" id=\"5717e194-1c94-486c-a504-f06a42f469f9\" type=\"checkbox\" ><label class=\"sk-toggleable__label\" for=\"5717e194-1c94-486c-a504-f06a42f469f9\">SimpleImputer</label><div class=\"sk-toggleable__content\"><pre>SimpleImputer(strategy='most_frequent')</pre></div></div></div><div class=\"sk-item\"><div class=\"sk-estimator sk-toggleable\"><input class=\"sk-toggleable__control sk-hidden--visually\" id=\"1c281aa6-2601-4d67-b4d1-6ad988cd9870\" type=\"checkbox\" ><label class=\"sk-toggleable__label\" for=\"1c281aa6-2601-4d67-b4d1-6ad988cd9870\">OneHotEncoder</label><div class=\"sk-toggleable__content\"><pre>OneHotEncoder(handle_unknown='ignore')</pre></div></div></div></div></div></div></div></div></div></div><div class=\"sk-item\"><div class=\"sk-estimator sk-toggleable\"><input class=\"sk-toggleable__control sk-hidden--visually\" id=\"06227ee5-b724-45e1-bc54-527f48267970\" type=\"checkbox\" ><label class=\"sk-toggleable__label\" for=\"06227ee5-b724-45e1-bc54-527f48267970\">StandardScaler</label><div class=\"sk-toggleable__content\"><pre>StandardScaler()</pre></div></div></div></div></div></div></div>"
      ],
      "text/plain": [
       "Pipeline(steps=[('columntransformer',\n",
       "                 ColumnTransformer(transformers=[('simpleimputer',\n",
       "                                                  SimpleImputer(),\n",
       "                                                  ['confirmed', 'recovered',\n",
       "                                                   'population', 'sq_km_area',\n",
       "                                                   'life_expectancy', 'iso',\n",
       "                                                   'lat', 'long',\n",
       "                                                   'elevation_in_meters']),\n",
       "                                                 ('pipeline',\n",
       "                                                  Pipeline(steps=[('simpleimputer',\n",
       "                                                                   SimpleImputer(strategy='most_frequent')),\n",
       "                                                                  ('onehotencoder',\n",
       "                                                                   OneHotEncoder(handle_unknown='ignore'))]),\n",
       "                                                  ['continent'])])),\n",
       "                ('standardscaler', StandardScaler())])"
      ]
     },
     "execution_count": 101,
     "metadata": {},
     "output_type": "execute_result"
    }
   ],
   "source": [
    "nume_cols=['confirmed','recovered','population','sq_km_area','life_expectancy','iso','lat','long','elevation_in_meters']\n",
    "cate_cols=['continent']\n",
    "mean = SimpleImputer(strategy='mean')\n",
    "mode = SimpleImputer(strategy='most_frequent') \n",
    "mode_encode = make_pipeline(mode, OneHotEncoder(handle_unknown='ignore'))\n",
    "\n",
    "coltrans = make_column_transformer((mean, nume_cols),\n",
    "                                (mode_encode,cate_cols),\n",
    "                                   remainder='drop')\n",
    "\n",
    "preprocess_pipeline = make_pipeline(coltrans,StandardScaler())\n",
    "\n",
    "preprocessed_train_X=preprocess_pipeline.fit_transform(X_temp)\n",
    "\n",
    "preprocess_pipeline"
   ]
  },
  {
   "cell_type": "code",
   "execution_count": 102,
   "metadata": {},
   "outputs": [
    {
     "data": {
      "text/html": [
       "<style>div.sk-top-container {color: black;background-color: white;}div.sk-toggleable {background-color: white;}label.sk-toggleable__label {cursor: pointer;display: block;width: 100%;margin-bottom: 0;padding: 0.2em 0.3em;box-sizing: border-box;text-align: center;}div.sk-toggleable__content {max-height: 0;max-width: 0;overflow: hidden;text-align: left;background-color: #f0f8ff;}div.sk-toggleable__content pre {margin: 0.2em;color: black;border-radius: 0.25em;background-color: #f0f8ff;}input.sk-toggleable__control:checked~div.sk-toggleable__content {max-height: 200px;max-width: 100%;overflow: auto;}div.sk-estimator input.sk-toggleable__control:checked~label.sk-toggleable__label {background-color: #d4ebff;}div.sk-label input.sk-toggleable__control:checked~label.sk-toggleable__label {background-color: #d4ebff;}input.sk-hidden--visually {border: 0;clip: rect(1px 1px 1px 1px);clip: rect(1px, 1px, 1px, 1px);height: 1px;margin: -1px;overflow: hidden;padding: 0;position: absolute;width: 1px;}div.sk-estimator {font-family: monospace;background-color: #f0f8ff;margin: 0.25em 0.25em;border: 1px dotted black;border-radius: 0.25em;box-sizing: border-box;}div.sk-estimator:hover {background-color: #d4ebff;}div.sk-parallel-item::after {content: \"\";width: 100%;border-bottom: 1px solid gray;flex-grow: 1;}div.sk-label:hover label.sk-toggleable__label {background-color: #d4ebff;}div.sk-serial::before {content: \"\";position: absolute;border-left: 1px solid gray;box-sizing: border-box;top: 2em;bottom: 0;left: 50%;}div.sk-serial {display: flex;flex-direction: column;align-items: center;background-color: white;}div.sk-item {z-index: 1;}div.sk-parallel {display: flex;align-items: stretch;justify-content: center;background-color: white;}div.sk-parallel-item {display: flex;flex-direction: column;position: relative;background-color: white;}div.sk-parallel-item:first-child::after {align-self: flex-end;width: 50%;}div.sk-parallel-item:last-child::after {align-self: flex-start;width: 50%;}div.sk-parallel-item:only-child::after {width: 0;}div.sk-dashed-wrapped {border: 1px dashed gray;margin: 0.2em;box-sizing: border-box;padding-bottom: 0.1em;background-color: white;position: relative;}div.sk-label label {font-family: monospace;font-weight: bold;background-color: white;display: inline-block;line-height: 1.2em;}div.sk-label-container {position: relative;z-index: 2;text-align: center;}div.sk-container {display: inline-block;position: relative;}</style><div class=\"sk-top-container\"><div class=\"sk-container\"><div class=\"sk-item sk-dashed-wrapped\"><div class=\"sk-label-container\"><div class=\"sk-label sk-toggleable\"><input class=\"sk-toggleable__control sk-hidden--visually\" id=\"2d548cab-8e28-4865-9bd7-9673ce109fc2\" type=\"checkbox\" ><label class=\"sk-toggleable__label\" for=\"2d548cab-8e28-4865-9bd7-9673ce109fc2\">Pipeline</label><div class=\"sk-toggleable__content\"><pre>Pipeline(steps=[('columntransformer',\n",
       "                 ColumnTransformer(transformers=[('simpleimputer',\n",
       "                                                  SimpleImputer(),\n",
       "                                                  ['confirmed', 'recovered',\n",
       "                                                   'population', 'sq_km_area',\n",
       "                                                   'life_expectancy', 'iso',\n",
       "                                                   'lat', 'long',\n",
       "                                                   'elevation_in_meters']),\n",
       "                                                 ('pipeline',\n",
       "                                                  Pipeline(steps=[('simpleimputer',\n",
       "                                                                   SimpleImputer(strategy='most_frequent')),\n",
       "                                                                  ('onehotencoder',\n",
       "                                                                   OneHotEncoder(handle_unknown='ignore'))]),\n",
       "                                                  ['continent'])])),\n",
       "                ('standardscaler', StandardScaler())])</pre></div></div></div><div class=\"sk-serial\"><div class=\"sk-item sk-dashed-wrapped\"><div class=\"sk-label-container\"><div class=\"sk-label sk-toggleable\"><input class=\"sk-toggleable__control sk-hidden--visually\" id=\"b5f200f2-af1e-45ae-862b-4a939d9385b9\" type=\"checkbox\" ><label class=\"sk-toggleable__label\" for=\"b5f200f2-af1e-45ae-862b-4a939d9385b9\">columntransformer: ColumnTransformer</label><div class=\"sk-toggleable__content\"><pre>ColumnTransformer(transformers=[('simpleimputer', SimpleImputer(),\n",
       "                                 ['confirmed', 'recovered', 'population',\n",
       "                                  'sq_km_area', 'life_expectancy', 'iso', 'lat',\n",
       "                                  'long', 'elevation_in_meters']),\n",
       "                                ('pipeline',\n",
       "                                 Pipeline(steps=[('simpleimputer',\n",
       "                                                  SimpleImputer(strategy='most_frequent')),\n",
       "                                                 ('onehotencoder',\n",
       "                                                  OneHotEncoder(handle_unknown='ignore'))]),\n",
       "                                 ['continent'])])</pre></div></div></div><div class=\"sk-parallel\"><div class=\"sk-parallel-item\"><div class=\"sk-item\"><div class=\"sk-label-container\"><div class=\"sk-label sk-toggleable\"><input class=\"sk-toggleable__control sk-hidden--visually\" id=\"12c04728-dcc5-44cd-8c35-9382e18a30e0\" type=\"checkbox\" ><label class=\"sk-toggleable__label\" for=\"12c04728-dcc5-44cd-8c35-9382e18a30e0\">simpleimputer</label><div class=\"sk-toggleable__content\"><pre>['confirmed', 'recovered', 'population', 'sq_km_area', 'life_expectancy', 'iso', 'lat', 'long', 'elevation_in_meters']</pre></div></div></div><div class=\"sk-serial\"><div class=\"sk-item\"><div class=\"sk-estimator sk-toggleable\"><input class=\"sk-toggleable__control sk-hidden--visually\" id=\"ebec5bf2-f04c-484a-9340-c2cea11b8998\" type=\"checkbox\" ><label class=\"sk-toggleable__label\" for=\"ebec5bf2-f04c-484a-9340-c2cea11b8998\">SimpleImputer</label><div class=\"sk-toggleable__content\"><pre>SimpleImputer()</pre></div></div></div></div></div></div><div class=\"sk-parallel-item\"><div class=\"sk-item\"><div class=\"sk-label-container\"><div class=\"sk-label sk-toggleable\"><input class=\"sk-toggleable__control sk-hidden--visually\" id=\"34c76be2-5bfc-4ace-8eb3-9282e47b9f25\" type=\"checkbox\" ><label class=\"sk-toggleable__label\" for=\"34c76be2-5bfc-4ace-8eb3-9282e47b9f25\">pipeline</label><div class=\"sk-toggleable__content\"><pre>['continent']</pre></div></div></div><div class=\"sk-serial\"><div class=\"sk-item\"><div class=\"sk-serial\"><div class=\"sk-item\"><div class=\"sk-estimator sk-toggleable\"><input class=\"sk-toggleable__control sk-hidden--visually\" id=\"045a8d1d-cecc-44ea-8076-35d8319a9678\" type=\"checkbox\" ><label class=\"sk-toggleable__label\" for=\"045a8d1d-cecc-44ea-8076-35d8319a9678\">SimpleImputer</label><div class=\"sk-toggleable__content\"><pre>SimpleImputer(strategy='most_frequent')</pre></div></div></div><div class=\"sk-item\"><div class=\"sk-estimator sk-toggleable\"><input class=\"sk-toggleable__control sk-hidden--visually\" id=\"0a3d70a1-075d-4a5d-8310-c2a5e50f65c2\" type=\"checkbox\" ><label class=\"sk-toggleable__label\" for=\"0a3d70a1-075d-4a5d-8310-c2a5e50f65c2\">OneHotEncoder</label><div class=\"sk-toggleable__content\"><pre>OneHotEncoder(handle_unknown='ignore')</pre></div></div></div></div></div></div></div></div></div></div><div class=\"sk-item\"><div class=\"sk-estimator sk-toggleable\"><input class=\"sk-toggleable__control sk-hidden--visually\" id=\"3d23316a-246d-43c9-933a-db68821f3e55\" type=\"checkbox\" ><label class=\"sk-toggleable__label\" for=\"3d23316a-246d-43c9-933a-db68821f3e55\">StandardScaler</label><div class=\"sk-toggleable__content\"><pre>StandardScaler()</pre></div></div></div></div></div></div></div>"
      ],
      "text/plain": [
       "Pipeline(steps=[('columntransformer',\n",
       "                 ColumnTransformer(transformers=[('simpleimputer',\n",
       "                                                  SimpleImputer(),\n",
       "                                                  ['confirmed', 'recovered',\n",
       "                                                   'population', 'sq_km_area',\n",
       "                                                   'life_expectancy', 'iso',\n",
       "                                                   'lat', 'long',\n",
       "                                                   'elevation_in_meters']),\n",
       "                                                 ('pipeline',\n",
       "                                                  Pipeline(steps=[('simpleimputer',\n",
       "                                                                   SimpleImputer(strategy='most_frequent')),\n",
       "                                                                  ('onehotencoder',\n",
       "                                                                   OneHotEncoder(handle_unknown='ignore'))]),\n",
       "                                                  ['continent'])])),\n",
       "                ('standardscaler', StandardScaler())])"
      ]
     },
     "execution_count": 102,
     "metadata": {},
     "output_type": "execute_result"
    }
   ],
   "source": [
    "# YOUR CODE HERE\n",
    "nume_cols=['confirmed','recovered','population','sq_km_area','life_expectancy','iso','lat','long','elevation_in_meters']\n",
    "cate_cols=['continent']\n",
    "mean = SimpleImputer(strategy='mean')\n",
    "mode = SimpleImputer(strategy='most_frequent') \n",
    "mode_encode = make_pipeline(mode, OneHotEncoder(handle_unknown='ignore'))\n",
    "\n",
    "coltrans = make_column_transformer((mean, nume_cols),\n",
    "                                (mode_encode,cate_cols),\n",
    "                                   remainder='drop')\n",
    "\n",
    "preprocess_pipeline = make_pipeline(coltrans,StandardScaler())\n",
    "\n",
    "preprocessed_train_X=preprocess_pipeline.fit_transform(X_temp)\n",
    "\n",
    "preprocess_pipeline"
   ]
  },
  {
   "cell_type": "code",
   "execution_count": 50,
   "metadata": {},
   "outputs": [
    {
     "data": {
      "text/plain": [
       "array([[-0.27492024, -0.22218113, -0.02888944, ..., -0.38297084,\n",
       "        -0.20597146, -0.27386128],\n",
       "       [-0.26853297, -0.23068894, -0.24573853, ..., -0.38297084,\n",
       "        -0.20597146, -0.27386128],\n",
       "       [-0.22968818, -0.19547924,  0.00961179, ..., -0.38297084,\n",
       "        -0.20597146, -0.27386128],\n",
       "       ...,\n",
       "       [-0.32141565, -0.26458142, -0.07731254, ..., -0.38297084,\n",
       "        -0.20597146, -0.27386128],\n",
       "       [-0.30363852, -0.24631165, -0.15152233, ..., -0.38297084,\n",
       "        -0.20597146, -0.27386128],\n",
       "       [-0.31034563, -0.25422024, -0.15527547, ..., -0.38297084,\n",
       "        -0.20597146, -0.27386128]])"
      ]
     },
     "execution_count": 50,
     "metadata": {},
     "output_type": "execute_result"
    }
   ],
   "source": [
    "preprocessed_train_X"
   ]
  },
  {
   "cell_type": "code",
   "execution_count": null,
   "metadata": {},
   "outputs": [],
   "source": []
  }
 ],
 "metadata": {
  "kernelspec": {
   "display_name": "Python 3",
   "language": "python",
   "name": "python3"
  },
  "language_info": {
   "codemirror_mode": {
    "name": "ipython",
    "version": 3
   },
   "file_extension": ".py",
   "mimetype": "text/x-python",
   "name": "python",
   "nbconvert_exporter": "python",
   "pygments_lexer": "ipython3",
   "version": "3.8.3"
  },
  "toc": {
   "base_numbering": "",
   "nav_menu": {},
   "number_sections": false,
   "sideBar": true,
   "skip_h1_title": false,
   "title_cell": "Table of Contents",
   "title_sidebar": "Contents",
   "toc_cell": false,
   "toc_position": {
    "height": "calc(100% - 180px)",
    "left": "10px",
    "top": "150px",
    "width": "307.2px"
   },
   "toc_section_display": true,
   "toc_window_display": true
  }
 },
 "nbformat": 4,
 "nbformat_minor": 4
}
