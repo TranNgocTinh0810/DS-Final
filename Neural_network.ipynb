{
 "cells": [
  {
   "cell_type": "markdown",
   "metadata": {},
   "source": [
    "# Đồ Án Cuối Kì Môn Khoa Học Dữ Liệu\n",
    "\n",
    "**Giới thiệu thành viên**\n",
    "\n",
    "- *Họ tên:* **Trần Ngọc Tịnh**       \n",
    "  *MSSV:* **18120597**\n",
    "  \n",
    "  \n",
    "  \n",
    "  \n",
    "- *Họ tên:* **Nguyễn Ngọc Năng Toàn**       \n",
    "  *MSSV:* **18120600**"
   ]
  },
  {
   "cell_type": "markdown",
   "metadata": {},
   "source": [
    "## Import "
   ]
  },
  {
   "cell_type": "code",
   "execution_count": 1,
   "metadata": {},
   "outputs": [],
   "source": [
    "%matplotlib inline\n",
    "import matplotlib.pyplot as plt\n",
    "import seaborn as sns # seaborn là thư viện được xây trên matplotlib, giúp việc visualization đỡ khổ hơn\n",
    "import pandas as pd\n",
    "import numpy as np\n",
    "\n",
    "from sklearn.model_selection import train_test_split\n",
    "from sklearn.preprocessing import OneHotEncoder, StandardScaler\n",
    "from sklearn.impute import SimpleImputer\n",
    "from sklearn.base import BaseEstimator, TransformerMixin\n",
    "from sklearn.pipeline import Pipeline, make_pipeline\n",
    "from sklearn.compose import ColumnTransformer, make_column_transformer\n",
    "from sklearn.neural_network import MLPClassifier\n",
    "from sklearn import set_config\n",
    "set_config(display='diagram') # Để trực quan hóa pipeline\n",
    "\n",
    "# You can also import other things ...\n",
    "# YOUR CODE HERE (OPTION)"
   ]
  },
  {
   "cell_type": "markdown",
   "metadata": {},
   "source": [
    "## Đọc dữ liệu từ file csv"
   ]
  },
  {
   "cell_type": "code",
   "execution_count": 2,
   "metadata": {},
   "outputs": [
    {
     "data": {
      "text/html": [
       "<div>\n",
       "<style scoped>\n",
       "    .dataframe tbody tr th:only-of-type {\n",
       "        vertical-align: middle;\n",
       "    }\n",
       "\n",
       "    .dataframe tbody tr th {\n",
       "        vertical-align: top;\n",
       "    }\n",
       "\n",
       "    .dataframe thead th {\n",
       "        text-align: right;\n",
       "    }\n",
       "</style>\n",
       "<table border=\"1\" class=\"dataframe\">\n",
       "  <thead>\n",
       "    <tr style=\"text-align: right;\">\n",
       "      <th></th>\n",
       "      <th>confirmed</th>\n",
       "      <th>recovered</th>\n",
       "      <th>deaths</th>\n",
       "      <th>population</th>\n",
       "      <th>sq_km_area</th>\n",
       "      <th>life_expectancy</th>\n",
       "      <th>elevation_in_meters</th>\n",
       "      <th>continent</th>\n",
       "      <th>abbreviation</th>\n",
       "      <th>location</th>\n",
       "      <th>iso</th>\n",
       "      <th>capital_city</th>\n",
       "      <th>lat</th>\n",
       "      <th>long</th>\n",
       "      <th>updated</th>\n",
       "    </tr>\n",
       "    <tr>\n",
       "      <th>Country</th>\n",
       "      <th></th>\n",
       "      <th></th>\n",
       "      <th></th>\n",
       "      <th></th>\n",
       "      <th></th>\n",
       "      <th></th>\n",
       "      <th></th>\n",
       "      <th></th>\n",
       "      <th></th>\n",
       "      <th></th>\n",
       "      <th></th>\n",
       "      <th></th>\n",
       "      <th></th>\n",
       "      <th></th>\n",
       "      <th></th>\n",
       "    </tr>\n",
       "  </thead>\n",
       "  <tbody>\n",
       "    <tr>\n",
       "      <th>Afghanistan</th>\n",
       "      <td>51526</td>\n",
       "      <td>41727</td>\n",
       "      <td>2191</td>\n",
       "      <td>35530081.0</td>\n",
       "      <td>652090.0</td>\n",
       "      <td>45.9</td>\n",
       "      <td>NaN</td>\n",
       "      <td>Asia</td>\n",
       "      <td>AF</td>\n",
       "      <td>Southern and Central Asia</td>\n",
       "      <td>4.0</td>\n",
       "      <td>Kabul</td>\n",
       "      <td>33.93911</td>\n",
       "      <td>67.709953</td>\n",
       "      <td>2021/01/04 05:22:02+00</td>\n",
       "    </tr>\n",
       "    <tr>\n",
       "      <th>Albania</th>\n",
       "      <td>59438</td>\n",
       "      <td>34648</td>\n",
       "      <td>1193</td>\n",
       "      <td>2930187.0</td>\n",
       "      <td>28748.0</td>\n",
       "      <td>71.6</td>\n",
       "      <td>NaN</td>\n",
       "      <td>Europe</td>\n",
       "      <td>AL</td>\n",
       "      <td>Southern Europe</td>\n",
       "      <td>8.0</td>\n",
       "      <td>Tirana</td>\n",
       "      <td>41.15330</td>\n",
       "      <td>20.168300</td>\n",
       "      <td>2021/01/04 05:22:02+00</td>\n",
       "    </tr>\n",
       "    <tr>\n",
       "      <th>Algeria</th>\n",
       "      <td>100408</td>\n",
       "      <td>67808</td>\n",
       "      <td>2772</td>\n",
       "      <td>41318142.0</td>\n",
       "      <td>2381741.0</td>\n",
       "      <td>69.7</td>\n",
       "      <td>800</td>\n",
       "      <td>Africa</td>\n",
       "      <td>DZ</td>\n",
       "      <td>Northern Africa</td>\n",
       "      <td>12.0</td>\n",
       "      <td>Alger</td>\n",
       "      <td>28.03390</td>\n",
       "      <td>1.659600</td>\n",
       "      <td>2021/01/04 05:22:02+00</td>\n",
       "    </tr>\n",
       "    <tr>\n",
       "      <th>Andorra</th>\n",
       "      <td>8192</td>\n",
       "      <td>7517</td>\n",
       "      <td>84</td>\n",
       "      <td>76965.0</td>\n",
       "      <td>468.0</td>\n",
       "      <td>83.5</td>\n",
       "      <td>1,996</td>\n",
       "      <td>Europe</td>\n",
       "      <td>AD</td>\n",
       "      <td>Southern Europe</td>\n",
       "      <td>20.0</td>\n",
       "      <td>Andorra la Vella</td>\n",
       "      <td>42.50630</td>\n",
       "      <td>1.521800</td>\n",
       "      <td>2021/01/04 05:22:02+00</td>\n",
       "    </tr>\n",
       "    <tr>\n",
       "      <th>Angola</th>\n",
       "      <td>17642</td>\n",
       "      <td>11223</td>\n",
       "      <td>408</td>\n",
       "      <td>29784193.0</td>\n",
       "      <td>1246700.0</td>\n",
       "      <td>38.3</td>\n",
       "      <td>1,112</td>\n",
       "      <td>Africa</td>\n",
       "      <td>AO</td>\n",
       "      <td>Central Africa</td>\n",
       "      <td>24.0</td>\n",
       "      <td>Luanda</td>\n",
       "      <td>-11.20270</td>\n",
       "      <td>17.873900</td>\n",
       "      <td>2021/01/04 05:22:02+00</td>\n",
       "    </tr>\n",
       "  </tbody>\n",
       "</table>\n",
       "</div>"
      ],
      "text/plain": [
       "             confirmed  recovered  deaths  population  sq_km_area  \\\n",
       "Country                                                             \n",
       "Afghanistan      51526      41727    2191  35530081.0    652090.0   \n",
       "Albania          59438      34648    1193   2930187.0     28748.0   \n",
       "Algeria         100408      67808    2772  41318142.0   2381741.0   \n",
       "Andorra           8192       7517      84     76965.0       468.0   \n",
       "Angola           17642      11223     408  29784193.0   1246700.0   \n",
       "\n",
       "             life_expectancy elevation_in_meters continent abbreviation  \\\n",
       "Country                                                                   \n",
       "Afghanistan             45.9                 NaN      Asia           AF   \n",
       "Albania                 71.6                 NaN    Europe           AL   \n",
       "Algeria                 69.7                 800    Africa           DZ   \n",
       "Andorra                 83.5               1,996    Europe           AD   \n",
       "Angola                  38.3               1,112    Africa           AO   \n",
       "\n",
       "                              location   iso      capital_city       lat  \\\n",
       "Country                                                                    \n",
       "Afghanistan  Southern and Central Asia   4.0             Kabul  33.93911   \n",
       "Albania                Southern Europe   8.0            Tirana  41.15330   \n",
       "Algeria                Northern Africa  12.0             Alger  28.03390   \n",
       "Andorra                Southern Europe  20.0  Andorra la Vella  42.50630   \n",
       "Angola                  Central Africa  24.0            Luanda -11.20270   \n",
       "\n",
       "                  long                 updated  \n",
       "Country                                         \n",
       "Afghanistan  67.709953  2021/01/04 05:22:02+00  \n",
       "Albania      20.168300  2021/01/04 05:22:02+00  \n",
       "Algeria       1.659600  2021/01/04 05:22:02+00  \n",
       "Andorra       1.521800  2021/01/04 05:22:02+00  \n",
       "Angola       17.873900  2021/01/04 05:22:02+00  "
      ]
     },
     "execution_count": 2,
     "metadata": {},
     "output_type": "execute_result"
    }
   ],
   "source": [
    "data_df = pd.read_csv('data.csv', \n",
    "                      index_col=0) # Cho cột index là cột 0 (PassengerId)\n",
    "data_df.head()"
   ]
  },
  {
   "cell_type": "code",
   "execution_count": 3,
   "metadata": {},
   "outputs": [
    {
     "data": {
      "text/plain": [
       "0"
      ]
     },
     "execution_count": 3,
     "metadata": {},
     "output_type": "execute_result"
    }
   ],
   "source": [
    "data_df.index.duplicated().sum()"
   ]
  },
  {
   "cell_type": "code",
   "execution_count": 4,
   "metadata": {},
   "outputs": [
    {
     "data": {
      "text/plain": [
       "dtype('int64')"
      ]
     },
     "execution_count": 4,
     "metadata": {},
     "output_type": "execute_result"
    }
   ],
   "source": [
    "data_df['deaths'].dtype"
   ]
  },
  {
   "cell_type": "code",
   "execution_count": 5,
   "metadata": {},
   "outputs": [
    {
     "data": {
      "text/plain": [
       "0"
      ]
     },
     "execution_count": 5,
     "metadata": {},
     "output_type": "execute_result"
    }
   ],
   "source": [
    "data_df['deaths'].isna().sum()"
   ]
  },
  {
   "cell_type": "markdown",
   "metadata": {},
   "source": [
    "Ta thấy dữ liệu cột continent bị thiếu giá trị."
   ]
  },
  {
   "cell_type": "code",
   "execution_count": 6,
   "metadata": {},
   "outputs": [
    {
     "data": {
      "text/plain": [
       "0        7.558140\n",
       "3        1.162791\n",
       "5        1.162791\n",
       "1        1.162791\n",
       "65       1.162791\n",
       "           ...   \n",
       "4957     0.581395\n",
       "1374     0.581395\n",
       "352      0.581395\n",
       "10350    0.581395\n",
       "7678     0.581395\n",
       "Name: deaths, Length: 153, dtype: float64"
      ]
     },
     "execution_count": 6,
     "metadata": {},
     "output_type": "execute_result"
    }
   ],
   "source": [
    "data_df['deaths'].value_counts(normalize=True) * 100"
   ]
  },
  {
   "cell_type": "code",
   "execution_count": 7,
   "metadata": {},
   "outputs": [],
   "source": [
    "y_sr = data_df[\"deaths\"] # sr là viết tắt của series\n",
    "X_df = data_df.drop(\"deaths\", axis=1)"
   ]
  },
  {
   "cell_type": "markdown",
   "metadata": {},
   "source": [
    "Tiền xử lý tập y_sr"
   ]
  },
  {
   "cell_type": "code",
   "execution_count": 8,
   "metadata": {},
   "outputs": [
    {
     "data": {
      "text/plain": [
       "array([  2191,   1193,   2772,     84,    408,      5,  43482,   2850,\n",
       "          909,   6324,   2733,    175,    352,   7626,      7,   1451,\n",
       "        19701,    250,     44,      0,   9201,   4131,     42, 196018,\n",
       "            3,   7678,     86,      2,      0,    448,  15880,     63,\n",
       "          104,  16767,   4784,  43965,     13,   2185,   4072,    147,\n",
       "          131,   1374,     61,      0,   2418,  14059,   7805,   1358,\n",
       "           86,      1,    244,   1948,    561,  65164,     64,    124,\n",
       "         2603,  34791,    335,   4957,      0,   4833,     81,     45,\n",
       "          164,    236,   3180,   9884,     29, 149649,  22734,  55540,\n",
       "        12834,   2259,   3416,  75332,    304,   3429,   3903,   2771,\n",
       "         1685,    937,   1360,      0,    680,   1499,     65,     83,\n",
       "           39,   1643,    495,   2530,    262,    195,    494,     48,\n",
       "          278,    220,      0,    358,     10, 127213,   3037,      3,\n",
       "            1,    689,   7485,    169,    215,   1878,  11707,     25,\n",
       "          165,    110,   1311,    436,   1501,  10350,   4140,      9,\n",
       "         2292,  37773,   9257,  29119,   7118,    245,  15979,    101,\n",
       "            0,      5,      0,      0,     59,     17,   6246,    421,\n",
       "         3325,      0,     76,     29,   2317,   2803,      0,    130,\n",
       "        29577,     63,  50837,   1468,    123,   8727,   7747,    729,\n",
       "           90,     21,     65,      0,     68,    127,   4800,  21488,\n",
       "          274,  19630,    679,  75137,    204,    614,      0,   1034,\n",
       "           35,    610,    394,    380], dtype=int64)"
      ]
     },
     "execution_count": 8,
     "metadata": {},
     "output_type": "execute_result"
    }
   ],
   "source": [
    "values=y_sr.values\n",
    "values"
   ]
  },
  {
   "cell_type": "code",
   "execution_count": 9,
   "metadata": {},
   "outputs": [
    {
     "data": {
      "text/plain": [
       "array([2, 2, 2, 0, 1, 0, 2, 2, 1, 2, 2, 1, 1, 2, 0, 2, 2, 1, 0, 0, 2, 2,\n",
       "       0, 2, 0, 2, 0, 0, 0, 1, 2, 0, 1, 2, 2, 2, 0, 2, 2, 1, 1, 2, 0, 0,\n",
       "       2, 2, 2, 2, 0, 0, 1, 2, 1, 2, 0, 1, 2, 2, 1, 2, 0, 2, 0, 0, 1, 1,\n",
       "       2, 2, 0, 2, 2, 2, 2, 2, 2, 2, 1, 2, 2, 2, 2, 1, 2, 0, 1, 2, 0, 0,\n",
       "       0, 2, 1, 2, 1, 1, 1, 0, 1, 1, 0, 1, 0, 2, 2, 0, 0, 1, 2, 1, 1, 2,\n",
       "       2, 0, 1, 1, 2, 1, 2, 2, 2, 0, 2, 2, 2, 2, 2, 1, 2, 1, 0, 0, 0, 0,\n",
       "       0, 0, 2, 1, 2, 0, 0, 0, 2, 2, 0, 1, 2, 0, 2, 2, 1, 2, 2, 1, 0, 0,\n",
       "       0, 0, 0, 1, 2, 2, 1, 2, 1, 2, 1, 1, 0, 2, 0, 1, 1, 1], dtype=int64)"
      ]
     },
     "execution_count": 9,
     "metadata": {},
     "output_type": "execute_result"
    }
   ],
   "source": [
    "#Xu ly y_Sr\n",
    "values[values<100]=0\n",
    "values[(values>=100)&(values<1000)]=1\n",
    "values[values>=1000]=2\n",
    "values\n"
   ]
  },
  {
   "cell_type": "code",
   "execution_count": 10,
   "metadata": {},
   "outputs": [
    {
     "data": {
      "text/plain": [
       "Country\n",
       "Afghanistan    2\n",
       "Albania        2\n",
       "Algeria        2\n",
       "Andorra        0\n",
       "Angola         1\n",
       "              ..\n",
       "Venezuela      2\n",
       "Vietnam        0\n",
       "Yemen          1\n",
       "Zambia         1\n",
       "Zimbabwe       1\n",
       "Name: deaths, Length: 172, dtype: int64"
      ]
     },
     "execution_count": 10,
     "metadata": {},
     "output_type": "execute_result"
    }
   ],
   "source": [
    "y_sr"
   ]
  },
  {
   "cell_type": "markdown",
   "metadata": {},
   "source": [
    "Tiến hành chi tập theo tỷ lệ 7:3"
   ]
  },
  {
   "cell_type": "code",
   "execution_count": 11,
   "metadata": {
    "scrolled": true
   },
   "outputs": [],
   "source": [
    "train_X, test_X, train_y, test_y = train_test_split(X_df, y_sr, test_size=0.3, random_state=0)"
   ]
  },
  {
   "cell_type": "code",
   "execution_count": 12,
   "metadata": {
    "scrolled": true
   },
   "outputs": [
    {
     "data": {
      "text/plain": [
       "Middle East                  11\n",
       "Caribbean                    10\n",
       "South America                10\n",
       "Southern and Central Asia    10\n",
       "Eastern Africa               10\n",
       "Western Africa                9\n",
       "Southern Europe               8\n",
       "Western Europe                7\n",
       "Eastern Europe                6\n",
       "Central Africa                5\n",
       "Nordic Countries              5\n",
       "Southeast Asia                5\n",
       "Northern Africa               5\n",
       "Southern Africa               4\n",
       "Central America               4\n",
       "Melanesia                     3\n",
       "Baltic Countries              2\n",
       "Eastern Asia                  2\n",
       "Polynesia                     1\n",
       "British Isles                 1\n",
       "Name: location, dtype: int64"
      ]
     },
     "execution_count": 12,
     "metadata": {},
     "output_type": "execute_result"
    }
   ],
   "source": [
    "train_X.location.value_counts()"
   ]
  },
  {
   "cell_type": "markdown",
   "metadata": {},
   "source": [
    "Tạo class ColAdderDroppep để xóa các cột ko cần thiết"
   ]
  },
  {
   "cell_type": "code",
   "execution_count": 13,
   "metadata": {},
   "outputs": [],
   "source": [
    "class ColDropper(BaseEstimator, TransformerMixin):\n",
    "    def fit(self, X_df, y=None):\n",
    "        return self\n",
    "    def transform(self, X_df, y=None):\n",
    "        df = X_df.copy()\n",
    "        unused_cols = ['abbreviation', 'capital_city', 'updated','sq_km_area','location']\n",
    "        df=df.drop(unused_cols,axis=1)\n",
    "        df=df.astype({'confirmed':'float64','recovered':'float64'})\n",
    "        df['elevation_in_meters'] = pd.to_numeric(df['elevation_in_meters'],errors='coerce')\n",
    "        return df"
   ]
  },
  {
   "cell_type": "code",
   "execution_count": 14,
   "metadata": {
    "scrolled": true
   },
   "outputs": [
    {
     "data": {
      "text/html": [
       "<div>\n",
       "<style scoped>\n",
       "    .dataframe tbody tr th:only-of-type {\n",
       "        vertical-align: middle;\n",
       "    }\n",
       "\n",
       "    .dataframe tbody tr th {\n",
       "        vertical-align: top;\n",
       "    }\n",
       "\n",
       "    .dataframe thead th {\n",
       "        text-align: right;\n",
       "    }\n",
       "</style>\n",
       "<table border=\"1\" class=\"dataframe\">\n",
       "  <thead>\n",
       "    <tr style=\"text-align: right;\">\n",
       "      <th></th>\n",
       "      <th>confirmed</th>\n",
       "      <th>recovered</th>\n",
       "      <th>population</th>\n",
       "      <th>life_expectancy</th>\n",
       "      <th>elevation_in_meters</th>\n",
       "      <th>continent</th>\n",
       "      <th>iso</th>\n",
       "      <th>lat</th>\n",
       "      <th>long</th>\n",
       "    </tr>\n",
       "    <tr>\n",
       "      <th>Country</th>\n",
       "      <th></th>\n",
       "      <th></th>\n",
       "      <th></th>\n",
       "      <th></th>\n",
       "      <th></th>\n",
       "      <th></th>\n",
       "      <th></th>\n",
       "      <th></th>\n",
       "      <th></th>\n",
       "    </tr>\n",
       "  </thead>\n",
       "  <tbody>\n",
       "    <tr>\n",
       "      <th>Cyprus</th>\n",
       "      <td>23974.0</td>\n",
       "      <td>2057.0</td>\n",
       "      <td>1179551.0</td>\n",
       "      <td>76.7</td>\n",
       "      <td>91.0</td>\n",
       "      <td>Asia</td>\n",
       "      <td>196.0</td>\n",
       "      <td>35.126400</td>\n",
       "      <td>33.429900</td>\n",
       "    </tr>\n",
       "    <tr>\n",
       "      <th>Tanzania</th>\n",
       "      <td>509.0</td>\n",
       "      <td>183.0</td>\n",
       "      <td>57310019.0</td>\n",
       "      <td>52.3</td>\n",
       "      <td>NaN</td>\n",
       "      <td>Africa</td>\n",
       "      <td>834.0</td>\n",
       "      <td>-6.369028</td>\n",
       "      <td>34.888822</td>\n",
       "    </tr>\n",
       "    <tr>\n",
       "      <th>Botswana</th>\n",
       "      <td>14805.0</td>\n",
       "      <td>12136.0</td>\n",
       "      <td>2291661.0</td>\n",
       "      <td>39.3</td>\n",
       "      <td>NaN</td>\n",
       "      <td>Africa</td>\n",
       "      <td>72.0</td>\n",
       "      <td>-22.328500</td>\n",
       "      <td>24.684900</td>\n",
       "    </tr>\n",
       "    <tr>\n",
       "      <th>Morocco</th>\n",
       "      <td>443146.0</td>\n",
       "      <td>413393.0</td>\n",
       "      <td>35739580.0</td>\n",
       "      <td>69.1</td>\n",
       "      <td>909.0</td>\n",
       "      <td>Africa</td>\n",
       "      <td>504.0</td>\n",
       "      <td>31.791700</td>\n",
       "      <td>-7.092600</td>\n",
       "    </tr>\n",
       "    <tr>\n",
       "      <th>Togo</th>\n",
       "      <td>3702.0</td>\n",
       "      <td>3474.0</td>\n",
       "      <td>7797694.0</td>\n",
       "      <td>54.7</td>\n",
       "      <td>236.0</td>\n",
       "      <td>Africa</td>\n",
       "      <td>768.0</td>\n",
       "      <td>8.619500</td>\n",
       "      <td>0.824800</td>\n",
       "    </tr>\n",
       "  </tbody>\n",
       "</table>\n",
       "</div>"
      ],
      "text/plain": [
       "          confirmed  recovered  population  life_expectancy  \\\n",
       "Country                                                       \n",
       "Cyprus      23974.0     2057.0   1179551.0             76.7   \n",
       "Tanzania      509.0      183.0  57310019.0             52.3   \n",
       "Botswana    14805.0    12136.0   2291661.0             39.3   \n",
       "Morocco    443146.0   413393.0  35739580.0             69.1   \n",
       "Togo         3702.0     3474.0   7797694.0             54.7   \n",
       "\n",
       "          elevation_in_meters continent    iso        lat       long  \n",
       "Country                                                               \n",
       "Cyprus                   91.0      Asia  196.0  35.126400  33.429900  \n",
       "Tanzania                  NaN    Africa  834.0  -6.369028  34.888822  \n",
       "Botswana                  NaN    Africa   72.0 -22.328500  24.684900  \n",
       "Morocco                 909.0    Africa  504.0  31.791700  -7.092600  \n",
       "Togo                    236.0    Africa  768.0   8.619500   0.824800  "
      ]
     },
     "execution_count": 14,
     "metadata": {},
     "output_type": "execute_result"
    }
   ],
   "source": [
    "col_dropper = ColDropper()\n",
    "col_dropper.fit(train_X)\n",
    "col_dropper.transform(train_X).head()"
   ]
  },
  {
   "cell_type": "markdown",
   "metadata": {},
   "source": [
    "Tạo pipeline tiền xử lý"
   ]
  },
  {
   "cell_type": "code",
   "execution_count": 15,
   "metadata": {
    "scrolled": false
   },
   "outputs": [
    {
     "name": "stdout",
     "output_type": "stream",
     "text": [
      "Pipeline(steps=[('coldropper', ColDropper()),\n",
      "                ('columntransformer',\n",
      "                 ColumnTransformer(transformers=[('mean_for_nume_cols',\n",
      "                                                  SimpleImputer(),\n",
      "                                                  ['confirmed', 'recovered',\n",
      "                                                   'life_expectancy',\n",
      "                                                   'elevation_in_meters', 'iso',\n",
      "                                                   'lat', 'long']),\n",
      "                                                 ('mode_encode_for_cate_cols',\n",
      "                                                  Pipeline(steps=[('simpleimputer',\n",
      "                                                                   SimpleImputer(strategy='most_frequent')),\n",
      "                                                                  ('onehotencoder',\n",
      "                                                                   OneHotEncoder(handle_unknown='ignore'))]),\n",
      "                                                  ['continent'])])),\n",
      "                ('standardscaler', StandardScaler()),\n",
      "                ('mlpclassifier',\n",
      "                 MLPClassifier(activation='tanh', hidden_layer_sizes=(20,),\n",
      "                               max_iter=2500, random_state=0,\n",
      "                               solver='lbfgs'))])\n"
     ]
    }
   ],
   "source": [
    "nume_cols=['confirmed','recovered','life_expectancy','elevation_in_meters','iso','lat','long']\n",
    "cate_cols=['continent']\n",
    "\n",
    "mean = SimpleImputer(strategy='mean')\n",
    "mode = SimpleImputer(strategy='most_frequent') \n",
    "mode_encode = make_pipeline(mode,OneHotEncoder(handle_unknown='ignore'))\n",
    "\n",
    "colTransform = ColumnTransformer([('mean_for_nume_cols',mean, nume_cols),\n",
    "                                ('mode_encode_for_cate_cols',mode_encode,cate_cols)])\n",
    "colNormalize = StandardScaler()\n",
    "neural_net_model = MLPClassifier(hidden_layer_sizes=(20,), activation='tanh',\n",
    "                                 solver='lbfgs', max_iter=2500, random_state=0)\n",
    "full_pipeline = make_pipeline(col_dropper,colTransform,colNormalize,neural_net_model)\n",
    "\n",
    "print(full_pipeline)"
   ]
  },
  {
   "cell_type": "code",
   "execution_count": 16,
   "metadata": {},
   "outputs": [],
   "source": [
    "full_pipeline.fit(train_X, train_y)\n",
    "Y_pred = full_pipeline.predict(test_X)"
   ]
  },
  {
   "cell_type": "markdown",
   "metadata": {},
   "source": [
    "Đưa vào datafame dữ liệu dự đoán và dữ liệu gốc"
   ]
  },
  {
   "cell_type": "code",
   "execution_count": 17,
   "metadata": {
    "scrolled": true
   },
   "outputs": [
    {
     "name": "stdout",
     "output_type": "stream",
     "text": [
      "                     predict  actual\n",
      "Country                             \n",
      "Gabon                      0       0\n",
      "Spain                      2       2\n",
      "Guinea-Bissau              1       0\n",
      "Gambia                     1       1\n",
      "Qatar                      1       1\n",
      "Mauritius                  0       0\n",
      "Armenia                    2       2\n",
      "Timor-Leste                0       0\n",
      "Mongolia                   0       0\n",
      "Lithuania                  2       2\n",
      "Sierra Leone               0       0\n",
      "Somalia                    0       1\n",
      "Antigua and Barbuda        0       0\n",
      "Malta                      0       1\n",
      "United Kingdom             2       2\n",
      "Malawi                     1       1\n",
      "Chile                      2       2\n",
      "Benin                      0       0\n",
      "Guatemala                  2       2\n",
      "Ethiopia                   1       2\n",
      "Honduras                   0       2\n",
      "Costa Rica                 2       2\n",
      "Angola                     0       1\n",
      "Panama                     2       2\n",
      "Grenada                    0       0\n",
      "Nepal                      2       2\n",
      "Poland                     2       2\n",
      "Singapore                  1       0\n",
      "Netherlands                2       2\n",
      "Turkey                     2       2\n",
      "Burkina Faso               2       0\n",
      "Georgia                    2       2\n",
      "Romania                    2       2\n",
      "Ecuador                    2       2\n",
      "Australia                  0       1\n",
      "Dominican Republic         2       2\n",
      "Kenya                      1       2\n",
      "Mozambique                 1       1\n",
      "Marshall Islands           0       0\n",
      "Yemen                      2       1\n",
      "Brunei                     1       0\n",
      "Canada                     2       2\n",
      "Madagascar                 0       1\n",
      "New Zealand                0       0\n",
      "Thailand                   0       0\n",
      "Bhutan                     0       0\n",
      "San Marino                 0       0\n",
      "Israel                     2       2\n",
      "Slovenia                   2       2\n",
      "Belgium                    2       2\n",
      "Philippines                2       2\n",
      "Zambia                     1       1\n"
     ]
    }
   ],
   "source": [
    "result={'predict':Y_pred,'actual':test_y}\n",
    "df=pd.DataFrame(result)\n",
    "print(df)"
   ]
  },
  {
   "cell_type": "markdown",
   "metadata": {},
   "source": [
    "Tỷ lệ phần trăm dự đoán chính xác"
   ]
  },
  {
   "cell_type": "code",
   "execution_count": 18,
   "metadata": {},
   "outputs": [
    {
     "name": "stdout",
     "output_type": "stream",
     "text": [
      "75.0 %\n"
     ]
    }
   ],
   "source": [
    "print(round((1-df[df.predict!=df.actual].shape[0]/df.shape[0])*100,3),\"%\")"
   ]
  }
 ],
 "metadata": {
  "kernelspec": {
   "display_name": "Python 3",
   "language": "python",
   "name": "python3"
  },
  "language_info": {
   "codemirror_mode": {
    "name": "ipython",
    "version": 3
   },
   "file_extension": ".py",
   "mimetype": "text/x-python",
   "name": "python",
   "nbconvert_exporter": "python",
   "pygments_lexer": "ipython3",
   "version": "3.8.5"
  },
  "toc": {
   "base_numbering": "",
   "nav_menu": {},
   "number_sections": false,
   "sideBar": true,
   "skip_h1_title": false,
   "title_cell": "Table of Contents",
   "title_sidebar": "Contents",
   "toc_cell": false,
   "toc_position": {},
   "toc_section_display": true,
   "toc_window_display": true
  }
 },
 "nbformat": 4,
 "nbformat_minor": 4
}
